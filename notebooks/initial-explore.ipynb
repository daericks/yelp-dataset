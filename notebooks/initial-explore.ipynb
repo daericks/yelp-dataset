{
 "cells": [
  {
   "cell_type": "code",
   "execution_count": 1,
   "metadata": {
    "ExecuteTime": {
     "end_time": "2019-11-22T03:50:10.973375Z",
     "start_time": "2019-11-22T03:50:07.249964Z"
    }
   },
   "outputs": [],
   "source": [
    "%matplotlib inline\n",
    "import pandas as pd\n",
    "import numpy as np\n",
    "import matplotlib.pyplot as plt\n"
   ]
  },
  {
   "cell_type": "code",
   "execution_count": 2,
   "metadata": {
    "ExecuteTime": {
     "end_time": "2019-11-22T03:50:10.984118Z",
     "start_time": "2019-11-22T03:50:10.975536Z"
    }
   },
   "outputs": [],
   "source": [
    "new_list = []\n",
    "for line in open(r'../../data/small-review.json'):\n",
    "   new_list.append(json.loads(line))"
   ]
  },
  {
   "cell_type": "code",
   "execution_count": 3,
   "metadata": {
    "ExecuteTime": {
     "end_time": "2019-11-22T03:50:11.031204Z",
     "start_time": "2019-11-22T03:50:10.987216Z"
    }
   },
   "outputs": [
    {
     "data": {
      "text/html": [
       "<div>\n",
       "<style scoped>\n",
       "    .dataframe tbody tr th:only-of-type {\n",
       "        vertical-align: middle;\n",
       "    }\n",
       "\n",
       "    .dataframe tbody tr th {\n",
       "        vertical-align: top;\n",
       "    }\n",
       "\n",
       "    .dataframe thead th {\n",
       "        text-align: right;\n",
       "    }\n",
       "</style>\n",
       "<table border=\"1\" class=\"dataframe\">\n",
       "  <thead>\n",
       "    <tr style=\"text-align: right;\">\n",
       "      <th></th>\n",
       "      <th>business_id</th>\n",
       "      <th>cool</th>\n",
       "      <th>date</th>\n",
       "      <th>funny</th>\n",
       "      <th>review_id</th>\n",
       "      <th>stars</th>\n",
       "      <th>text</th>\n",
       "      <th>useful</th>\n",
       "      <th>user_id</th>\n",
       "    </tr>\n",
       "  </thead>\n",
       "  <tbody>\n",
       "    <tr>\n",
       "      <th>0</th>\n",
       "      <td>ujmEBvifdJM6h6RLv4wQIg</td>\n",
       "      <td>0</td>\n",
       "      <td>2013-05-07 04:34:36</td>\n",
       "      <td>1</td>\n",
       "      <td>Q1sbwvVQXV2734tPgoKj4Q</td>\n",
       "      <td>1.0</td>\n",
       "      <td>Total bill for this horrible service? Over $8G...</td>\n",
       "      <td>6</td>\n",
       "      <td>hG7b0MtEbXx5QzbzE6C_VA</td>\n",
       "    </tr>\n",
       "    <tr>\n",
       "      <th>1</th>\n",
       "      <td>NZnhc2sEQy3RmzKTZnqtwQ</td>\n",
       "      <td>0</td>\n",
       "      <td>2017-01-14 21:30:33</td>\n",
       "      <td>0</td>\n",
       "      <td>GJXCdrto3ASJOqKeVWPi6Q</td>\n",
       "      <td>5.0</td>\n",
       "      <td>I *adore* Travis at the Hard Rock's new Kelly ...</td>\n",
       "      <td>0</td>\n",
       "      <td>yXQM5uF2jS6es16SJzNHfg</td>\n",
       "    </tr>\n",
       "    <tr>\n",
       "      <th>2</th>\n",
       "      <td>WTqjgwHlXbSFevF32_DJVw</td>\n",
       "      <td>0</td>\n",
       "      <td>2016-11-09 20:09:03</td>\n",
       "      <td>0</td>\n",
       "      <td>2TzJjDVDEuAW6MR5Vuc1ug</td>\n",
       "      <td>5.0</td>\n",
       "      <td>I have to say that this office really has it t...</td>\n",
       "      <td>3</td>\n",
       "      <td>n6-Gk65cPZL6Uz8qRm3NYw</td>\n",
       "    </tr>\n",
       "    <tr>\n",
       "      <th>3</th>\n",
       "      <td>ikCg8xy5JIg_NGPx-MSIDA</td>\n",
       "      <td>0</td>\n",
       "      <td>2018-01-09 20:56:38</td>\n",
       "      <td>0</td>\n",
       "      <td>yi0R0Ugj_xUx_Nek0-_Qig</td>\n",
       "      <td>5.0</td>\n",
       "      <td>Went in for a lunch. Steak sandwich was delici...</td>\n",
       "      <td>0</td>\n",
       "      <td>dacAIZ6fTM6mqwW5uxkskg</td>\n",
       "    </tr>\n",
       "    <tr>\n",
       "      <th>4</th>\n",
       "      <td>b1b1eb3uo-w561D0ZfCEiQ</td>\n",
       "      <td>0</td>\n",
       "      <td>2018-01-30 23:07:38</td>\n",
       "      <td>0</td>\n",
       "      <td>11a8sVPMUFtaC7_ABRkmtw</td>\n",
       "      <td>1.0</td>\n",
       "      <td>Today was my second out of three sessions I ha...</td>\n",
       "      <td>7</td>\n",
       "      <td>ssoyf2_x0EQMed6fgHeMyQ</td>\n",
       "    </tr>\n",
       "  </tbody>\n",
       "</table>\n",
       "</div>"
      ],
      "text/plain": [
       "              business_id  cool                 date  funny  \\\n",
       "0  ujmEBvifdJM6h6RLv4wQIg     0  2013-05-07 04:34:36      1   \n",
       "1  NZnhc2sEQy3RmzKTZnqtwQ     0  2017-01-14 21:30:33      0   \n",
       "2  WTqjgwHlXbSFevF32_DJVw     0  2016-11-09 20:09:03      0   \n",
       "3  ikCg8xy5JIg_NGPx-MSIDA     0  2018-01-09 20:56:38      0   \n",
       "4  b1b1eb3uo-w561D0ZfCEiQ     0  2018-01-30 23:07:38      0   \n",
       "\n",
       "                review_id  stars  \\\n",
       "0  Q1sbwvVQXV2734tPgoKj4Q    1.0   \n",
       "1  GJXCdrto3ASJOqKeVWPi6Q    5.0   \n",
       "2  2TzJjDVDEuAW6MR5Vuc1ug    5.0   \n",
       "3  yi0R0Ugj_xUx_Nek0-_Qig    5.0   \n",
       "4  11a8sVPMUFtaC7_ABRkmtw    1.0   \n",
       "\n",
       "                                                text  useful  \\\n",
       "0  Total bill for this horrible service? Over $8G...       6   \n",
       "1  I *adore* Travis at the Hard Rock's new Kelly ...       0   \n",
       "2  I have to say that this office really has it t...       3   \n",
       "3  Went in for a lunch. Steak sandwich was delici...       0   \n",
       "4  Today was my second out of three sessions I ha...       7   \n",
       "\n",
       "                  user_id  \n",
       "0  hG7b0MtEbXx5QzbzE6C_VA  \n",
       "1  yXQM5uF2jS6es16SJzNHfg  \n",
       "2  n6-Gk65cPZL6Uz8qRm3NYw  \n",
       "3  dacAIZ6fTM6mqwW5uxkskg  \n",
       "4  ssoyf2_x0EQMed6fgHeMyQ  "
      ]
     },
     "execution_count": 3,
     "metadata": {},
     "output_type": "execute_result"
    }
   ],
   "source": [
    "dfreviews = pd.DataFrame.from_records(new_list)\n",
    "dfreviews.head()"
   ]
  },
  {
   "cell_type": "code",
   "execution_count": 14,
   "metadata": {
    "ExecuteTime": {
     "end_time": "2019-11-22T05:17:37.951439Z",
     "start_time": "2019-11-22T05:07:20.457600Z"
    }
   },
   "outputs": [],
   "source": [
    "def load_reviews(): \n",
    "    new_list = []\n",
    "    for line in open(r'../../data/review.json'):\n",
    "       new_list.append(json.loads(line))\n",
    "    return pd.DataFrame.from_records(new_list)\n",
    "\n",
    "dfreviews = load_reviews()"
   ]
  },
  {
   "cell_type": "code",
   "execution_count": 15,
   "metadata": {
    "ExecuteTime": {
     "end_time": "2019-11-22T05:17:42.263403Z",
     "start_time": "2019-11-22T05:17:37.986219Z"
    }
   },
   "outputs": [
    {
     "data": {
      "text/html": [
       "<div>\n",
       "<style scoped>\n",
       "    .dataframe tbody tr th:only-of-type {\n",
       "        vertical-align: middle;\n",
       "    }\n",
       "\n",
       "    .dataframe tbody tr th {\n",
       "        vertical-align: top;\n",
       "    }\n",
       "\n",
       "    .dataframe thead th {\n",
       "        text-align: right;\n",
       "    }\n",
       "</style>\n",
       "<table border=\"1\" class=\"dataframe\">\n",
       "  <thead>\n",
       "    <tr style=\"text-align: right;\">\n",
       "      <th></th>\n",
       "      <th>cool</th>\n",
       "      <th>funny</th>\n",
       "      <th>stars</th>\n",
       "      <th>useful</th>\n",
       "    </tr>\n",
       "  </thead>\n",
       "  <tbody>\n",
       "    <tr>\n",
       "      <th>count</th>\n",
       "      <td>6.685900e+06</td>\n",
       "      <td>6.685900e+06</td>\n",
       "      <td>6.685900e+06</td>\n",
       "      <td>6.685900e+06</td>\n",
       "    </tr>\n",
       "    <tr>\n",
       "      <th>mean</th>\n",
       "      <td>5.787708e-01</td>\n",
       "      <td>4.827667e-01</td>\n",
       "      <td>3.716199e+00</td>\n",
       "      <td>1.354134e+00</td>\n",
       "    </tr>\n",
       "    <tr>\n",
       "      <th>std</th>\n",
       "      <td>2.359024e+00</td>\n",
       "      <td>2.378646e+00</td>\n",
       "      <td>1.463643e+00</td>\n",
       "      <td>3.700192e+00</td>\n",
       "    </tr>\n",
       "    <tr>\n",
       "      <th>min</th>\n",
       "      <td>-1.000000e+00</td>\n",
       "      <td>0.000000e+00</td>\n",
       "      <td>1.000000e+00</td>\n",
       "      <td>-1.000000e+00</td>\n",
       "    </tr>\n",
       "    <tr>\n",
       "      <th>25%</th>\n",
       "      <td>0.000000e+00</td>\n",
       "      <td>0.000000e+00</td>\n",
       "      <td>3.000000e+00</td>\n",
       "      <td>0.000000e+00</td>\n",
       "    </tr>\n",
       "    <tr>\n",
       "      <th>50%</th>\n",
       "      <td>0.000000e+00</td>\n",
       "      <td>0.000000e+00</td>\n",
       "      <td>4.000000e+00</td>\n",
       "      <td>0.000000e+00</td>\n",
       "    </tr>\n",
       "    <tr>\n",
       "      <th>75%</th>\n",
       "      <td>1.000000e+00</td>\n",
       "      <td>0.000000e+00</td>\n",
       "      <td>5.000000e+00</td>\n",
       "      <td>2.000000e+00</td>\n",
       "    </tr>\n",
       "    <tr>\n",
       "      <th>max</th>\n",
       "      <td>5.060000e+02</td>\n",
       "      <td>1.290000e+03</td>\n",
       "      <td>5.000000e+00</td>\n",
       "      <td>1.241000e+03</td>\n",
       "    </tr>\n",
       "  </tbody>\n",
       "</table>\n",
       "</div>"
      ],
      "text/plain": [
       "               cool         funny         stars        useful\n",
       "count  6.685900e+06  6.685900e+06  6.685900e+06  6.685900e+06\n",
       "mean   5.787708e-01  4.827667e-01  3.716199e+00  1.354134e+00\n",
       "std    2.359024e+00  2.378646e+00  1.463643e+00  3.700192e+00\n",
       "min   -1.000000e+00  0.000000e+00  1.000000e+00 -1.000000e+00\n",
       "25%    0.000000e+00  0.000000e+00  3.000000e+00  0.000000e+00\n",
       "50%    0.000000e+00  0.000000e+00  4.000000e+00  0.000000e+00\n",
       "75%    1.000000e+00  0.000000e+00  5.000000e+00  2.000000e+00\n",
       "max    5.060000e+02  1.290000e+03  5.000000e+00  1.241000e+03"
      ]
     },
     "execution_count": 15,
     "metadata": {},
     "output_type": "execute_result"
    }
   ],
   "source": [
    "dfreviews.describe()"
   ]
  },
  {
   "cell_type": "code",
   "execution_count": 16,
   "metadata": {
    "ExecuteTime": {
     "end_time": "2019-11-22T05:17:42.277897Z",
     "start_time": "2019-11-22T05:17:42.267333Z"
    }
   },
   "outputs": [
    {
     "data": {
      "text/plain": [
       "Index(['business_id', 'cool', 'date', 'funny', 'review_id', 'stars', 'text',\n",
       "       'useful', 'user_id'],\n",
       "      dtype='object')"
      ]
     },
     "execution_count": 16,
     "metadata": {},
     "output_type": "execute_result"
    }
   ],
   "source": [
    "dfreviews.columns"
   ]
  },
  {
   "cell_type": "code",
   "execution_count": 17,
   "metadata": {
    "ExecuteTime": {
     "end_time": "2019-11-22T05:17:42.300785Z",
     "start_time": "2019-11-22T05:17:42.282693Z"
    }
   },
   "outputs": [
    {
     "data": {
      "text/plain": [
       "\"I have to say that this office really has it together, they are so organized and friendly!  Dr. J. Phillipp is a great dentist, very friendly and professional.  The dental assistants that helped in my procedure were amazing, Jewel and Bailey helped me to feel comfortable!  I don't have dental insurance, but they have this insurance through their office you can purchase for $80 something a year and this gave me 25% off all of my dental work, plus they helped me get signed up for care credit which I knew nothing about before this visit!  I highly recommend this office for the nice synergy the whole office has!\""
      ]
     },
     "execution_count": 17,
     "metadata": {},
     "output_type": "execute_result"
    }
   ],
   "source": [
    "dfreviews.iloc[2]['text']"
   ]
  },
  {
   "cell_type": "code",
   "execution_count": 18,
   "metadata": {
    "ExecuteTime": {
     "end_time": "2019-11-22T05:17:42.333710Z",
     "start_time": "2019-11-22T05:17:42.305155Z"
    }
   },
   "outputs": [
    {
     "data": {
      "text/plain": [
       "'Total bill for this horrible service? Over $8Gs. These crooks actually had the nerve to charge us $69 for 3 pills. I checked online the pills can be had for 19 cents EACH! Avoid Hospital ERs at all costs.'"
      ]
     },
     "execution_count": 18,
     "metadata": {},
     "output_type": "execute_result"
    }
   ],
   "source": [
    "dfreviews['text'][0]"
   ]
  },
  {
   "cell_type": "code",
   "execution_count": 19,
   "metadata": {
    "ExecuteTime": {
     "end_time": "2019-11-22T05:17:43.283831Z",
     "start_time": "2019-11-22T05:17:42.335953Z"
    }
   },
   "outputs": [
    {
     "data": {
      "image/png": "[encoded data removed]",
      "text/plain": [
       "<Figure size 432x288 with 1 Axes>"
      ]
     },
     "metadata": {
      "needs_background": "light"
     },
     "output_type": "display_data"
    }
   ],
   "source": [
    "plt.hist(dfreviews['stars'], bins=10);"
   ]
  },
  {
   "cell_type": "code",
   "execution_count": 31,
   "metadata": {
    "ExecuteTime": {
     "end_time": "2019-11-22T05:40:27.162250Z",
     "start_time": "2019-11-22T05:40:16.739586Z"
    }
   },
   "outputs": [
    {
     "data": {
      "image/png": "[encoded data removed]",
      "text/plain": [
       "<Figure size 864x576 with 3 Axes>"
      ]
     },
     "metadata": {
      "needs_background": "light"
     },
     "output_type": "display_data"
    }
   ],
   "source": [
    "plt.figure(figsize=(12,8))\n",
    "cnt=0\n",
    "for flag in ['cool', 'funny', 'useful']:\n",
    "    cnt +=1\n",
    "    plt.subplot(3,1,cnt)\n",
    "    plt.hist(dfreviews[flag], bins=100, log=True)\n",
    "    plt.ylabel(flag)"
   ]
  },
  {
   "cell_type": "code",
   "execution_count": 34,
   "metadata": {
    "ExecuteTime": {
     "end_time": "2019-11-22T05:46:55.194013Z",
     "start_time": "2019-11-22T05:46:54.801519Z"
    }
   },
   "outputs": [
    {
     "data": {
      "text/plain": [
       "business_id     object\n",
       "cool             int64\n",
       "date            object\n",
       "funny            int64\n",
       "review_id       object\n",
       "stars          float64\n",
       "text            object\n",
       "useful           int64\n",
       "user_id         object\n",
       "dtype: object"
      ]
     },
     "execution_count": 34,
     "metadata": {},
     "output_type": "execute_result"
    }
   ],
   "source": [
    "dfreviews.dtypes"
   ]
  },
  {
   "cell_type": "code",
   "execution_count": 48,
   "metadata": {
    "ExecuteTime": {
     "end_time": "2019-11-22T15:42:28.383669Z",
     "start_time": "2019-11-22T15:42:28.350968Z"
    }
   },
   "outputs": [
    {
     "data": {
      "text/plain": [
       "'I refuse to judge a place before I try it and you should too!\\n\\nLike many of you, I watched the season finale of Kitchen Nightmares.  Working in a family business myself and knowing it is never easy, I wondered if owners Amy and Samy could possibly be like they were portrayed on the show or if there was some fancy editing done on the show.  Knowing that reality TV is usually far from reality, off we went last Saturday night for dinner at Amy\\'s Baking Company.\\n\\nI called the Monday before our planned dinner and made reservations for four.  I spoke with Samy and he kindly took my reservation even though he told me we didn\\'t need to make one.  Plans changed and by Saturday night our group had grown to seven but I was reluctant to call and advise them of the change.  I was a little nervous....would they be mad?  Would Samy yell at me?  Silly questions, I know but legitimate ones after watching the show.   He really is a nice guy and I was silly to think otherwise.  My husband and I walked in to the restaurant and informed Samy we had a group or seven total coming and he was more than accommodating.   He set us up for seven and we were seated.   \\n\\nSamy asked if we wanted appetizers so we ordered the herbed flat bread, The bread was soft, flavorful and perfectly seasoned.  Samy had advised us because our party was so big that the food might take a little longer because Amy was preparing everything fresh.  I can tell you that the food service was fast.  We had our appetizers in under 10 minutes.\\n\\nWe next ordered our entrees.  Our food came to us in about 15 minutes or so.  Amy made every item we ordered herself and let me tell you, she can cook!   \\n\\nI ordered the Chicken Parmesan with Penne Pasta.  The chicken breast was large and nicely breaded.  The marinara was perfect, not too tangy and not too sweet.  Underneath the layer of cheese were nice large basil leaves.  This really added nicely to the flavor.  The penne was fabulous as well, buttered and spiced nicely.\\n \\nMy husband ordered Fettuccine Alfredo with Chicken and boy was it good.  Very creamy and delicious and a nice sized portion, enough to eat some and take home.  I\\'m having the leftovers for lunch today and can\\'t wait!  Amy was nice enough to advise us on how to reheat it so that it was just as tasty as when it was freshly made.\\n\\nMy favorite items that were ordered at our table were Amy\\'s pizzas.  My sister ordered the Garlic Chicken Mushroom pizza and our friends ordered the Sausage and Pepperoni pizza, half of it made spicy.  Both pizzas had a wonderful crust which was thin with a perfect mix of crispness on the outside and softness in the center.  These were perfectly cooked.  The spicy sausage and pepperoni pizza was so good that I can\\'t wait to go back.  The initial bite wasn\\'t that spicy, but then it hits you and tingles your lips and tongue.  The spice was unlike anything I\\'ve had on pizza and it was so incredible.  The Garlic Chicken Mushroom was wonderful too, perfectly balanced flavors and very fresh.  The cheese and herbs on the pizza made for a nice bite.  Amy really knows how to cook a tasty pizza.  She checked in with us to see how we liked everything.  Our tables was thrilled with the food.\\n\\nLast but not least, we ordered dessert.  I had the best key lime pie of my life and my husband has a chocolate truffle cake, topped with mousse and covered in chocolate.  That cake was so rich and wonderful.  Her desserts are divine.\\n\\nAt the end of our meal, Amy and Samy were gracious enough to take pictures with our entire table.  They really are a lovely couple.  They are very nice people with a passion for their restaurant.  It was a pleasure to meet them in real life and not just make assumptions on who they were based on what we saw on TV.\\n\\nWe had such a wonderful visit to Amy\\'s Baking Company that I find it hard to believe much of anything I saw on Kitchen Nightmares.  For this reason, I say you shouldn\\'t judge the place until you try it.    \\n\\nI give them five stars.  This place is as good as it gets in my opinion and my husband and I will be back for date night.  The ambiance is great here, perfect for a romantic dinner.  \\n\\nPlease try Amy\\'s Baking Company for yourself.    There doesn\\'t seem to be  a lot of \"reality\" in reality television.'"
      ]
     },
     "execution_count": 48,
     "metadata": {},
     "output_type": "execute_result"
    }
   ],
   "source": [
    "dfreviews[dfreviews['funny']>900]['text'][1295928]"
   ]
  },
  {
   "cell_type": "code",
   "execution_count": null,
   "metadata": {},
   "outputs": [],
   "source": []
  }
 ],
 "metadata": {
  "kernelspec": {
   "display_name": "Python 3",
   "language": "python",
   "name": "python3"
  },
  "language_info": {
   "codemirror_mode": {
    "name": "ipython",
    "version": 3
   },
   "file_extension": ".py",
   "mimetype": "text/x-python",
   "name": "python",
   "nbconvert_exporter": "python",
   "pygments_lexer": "ipython3",
   "version": "3.7.3"
  },
  "toc": {
   "base_numbering": 1,
   "nav_menu": {},
   "number_sections": true,
   "sideBar": true,
   "skip_h1_title": false,
   "title_cell": "Table of Contents",
   "title_sidebar": "Contents",
   "toc_cell": false,
   "toc_position": {},
   "toc_section_display": true,
   "toc_window_display": false
  }
 },
 "nbformat": 4,
 "nbformat_minor": 2
}
