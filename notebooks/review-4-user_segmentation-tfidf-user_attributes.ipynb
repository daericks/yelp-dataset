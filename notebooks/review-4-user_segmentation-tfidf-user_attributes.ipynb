{
 "cells": [
  {
   "cell_type": "markdown",
   "metadata": {
    "toc": true
   },
   "source": [
    "<h1>Table of Contents<span class=\"tocSkip\"></span></h1>\n",
    "<div class=\"toc\"><ul class=\"toc-item\"><li><span><a href=\"#Words-indicative-of-(5-star)-and-(1-star)-reviews\" data-toc-modified-id=\"Words-indicative-of-(5-star)-and-(1-star)-reviews-1\"><span class=\"toc-item-num\">1&nbsp;&nbsp;</span>Words indicative of (5-star) and (1-star) reviews</a></span></li><li><span><a href=\"#Customer-segmentation\" data-toc-modified-id=\"Customer-segmentation-2\"><span class=\"toc-item-num\">2&nbsp;&nbsp;</span>Customer segmentation</a></span></li><li><span><a href=\"#Customer-segmentation-w/-PCA-&amp;-Scaling-before-clustering\" data-toc-modified-id=\"Customer-segmentation-w/-PCA-&amp;-Scaling-before-clustering-3\"><span class=\"toc-item-num\">3&nbsp;&nbsp;</span>Customer segmentation w/ PCA &amp; Scaling before clustering</a></span></li></ul></div>"
   ]
  },
  {
   "cell_type": "markdown",
   "metadata": {},
   "source": [
    "# Words indicative of (5-star) and (1-star) reviews"
   ]
  },
  {
   "cell_type": "code",
   "execution_count": 1,
   "metadata": {
    "ExecuteTime": {
     "end_time": "2019-11-26T19:40:21.159856Z",
     "start_time": "2019-11-26T19:40:16.746507Z"
    }
   },
   "outputs": [
    {
     "name": "stderr",
     "output_type": "stream",
     "text": [
      "[nltk_data] Downloading package stopwords to\n",
      "[nltk_data]     /Users/daviderickson/nltk_data...\n",
      "[nltk_data]   Package stopwords is already up-to-date!\n"
     ]
    }
   ],
   "source": [
    "%matplotlib inline\n",
    "import pandas as pd\n",
    "import numpy as np\n",
    "import matplotlib.pyplot as plt\n",
    "\n",
    "import re\n",
    "\n",
    "import nltk\n",
    "nltk.download('stopwords')\n",
    "from nltk.corpus import stopwords # Import the stop word list\n"
   ]
  },
  {
   "cell_type": "code",
   "execution_count": 2,
   "metadata": {
    "ExecuteTime": {
     "end_time": "2019-11-26T19:40:22.281045Z",
     "start_time": "2019-11-26T19:40:21.163478Z"
    }
   },
   "outputs": [],
   "source": [
    "def load_reviews(size='small'): \n",
    "    if size == 'small':\n",
    "        filename = r'../../data/small-review.json'\n",
    "    elif size == 'intermediate':\n",
    "        filename = r'../../data/intermediate-review.json'\n",
    "    elif size == 'full':\n",
    "        filename = r'../../data/review.json'\n",
    "    new_list = []\n",
    "    for line in open(filename):\n",
    "       new_list.append(json.loads(line))\n",
    "    return pd.DataFrame.from_records(new_list)\n",
    "\n",
    "dfreviews = load_reviews(size='intermediate')"
   ]
  },
  {
   "cell_type": "code",
   "execution_count": 3,
   "metadata": {
    "ExecuteTime": {
     "end_time": "2019-11-26T19:40:22.307618Z",
     "start_time": "2019-11-26T19:40:22.283183Z"
    }
   },
   "outputs": [
    {
     "data": {
      "text/html": [
       "<div>\n",
       "<style scoped>\n",
       "    .dataframe tbody tr th:only-of-type {\n",
       "        vertical-align: middle;\n",
       "    }\n",
       "\n",
       "    .dataframe tbody tr th {\n",
       "        vertical-align: top;\n",
       "    }\n",
       "\n",
       "    .dataframe thead th {\n",
       "        text-align: right;\n",
       "    }\n",
       "</style>\n",
       "<table border=\"1\" class=\"dataframe\">\n",
       "  <thead>\n",
       "    <tr style=\"text-align: right;\">\n",
       "      <th></th>\n",
       "      <th>business_id</th>\n",
       "      <th>cool</th>\n",
       "      <th>date</th>\n",
       "      <th>funny</th>\n",
       "      <th>review_id</th>\n",
       "      <th>stars</th>\n",
       "      <th>text</th>\n",
       "      <th>useful</th>\n",
       "      <th>user_id</th>\n",
       "    </tr>\n",
       "  </thead>\n",
       "  <tbody>\n",
       "    <tr>\n",
       "      <th>0</th>\n",
       "      <td>ujmEBvifdJM6h6RLv4wQIg</td>\n",
       "      <td>0</td>\n",
       "      <td>2013-05-07 04:34:36</td>\n",
       "      <td>1</td>\n",
       "      <td>Q1sbwvVQXV2734tPgoKj4Q</td>\n",
       "      <td>1.0</td>\n",
       "      <td>Total bill for this horrible service? Over $8G...</td>\n",
       "      <td>6</td>\n",
       "      <td>hG7b0MtEbXx5QzbzE6C_VA</td>\n",
       "    </tr>\n",
       "    <tr>\n",
       "      <th>1</th>\n",
       "      <td>NZnhc2sEQy3RmzKTZnqtwQ</td>\n",
       "      <td>0</td>\n",
       "      <td>2017-01-14 21:30:33</td>\n",
       "      <td>0</td>\n",
       "      <td>GJXCdrto3ASJOqKeVWPi6Q</td>\n",
       "      <td>5.0</td>\n",
       "      <td>I *adore* Travis at the Hard Rock's new Kelly ...</td>\n",
       "      <td>0</td>\n",
       "      <td>yXQM5uF2jS6es16SJzNHfg</td>\n",
       "    </tr>\n",
       "    <tr>\n",
       "      <th>2</th>\n",
       "      <td>WTqjgwHlXbSFevF32_DJVw</td>\n",
       "      <td>0</td>\n",
       "      <td>2016-11-09 20:09:03</td>\n",
       "      <td>0</td>\n",
       "      <td>2TzJjDVDEuAW6MR5Vuc1ug</td>\n",
       "      <td>5.0</td>\n",
       "      <td>I have to say that this office really has it t...</td>\n",
       "      <td>3</td>\n",
       "      <td>n6-Gk65cPZL6Uz8qRm3NYw</td>\n",
       "    </tr>\n",
       "    <tr>\n",
       "      <th>3</th>\n",
       "      <td>ikCg8xy5JIg_NGPx-MSIDA</td>\n",
       "      <td>0</td>\n",
       "      <td>2018-01-09 20:56:38</td>\n",
       "      <td>0</td>\n",
       "      <td>yi0R0Ugj_xUx_Nek0-_Qig</td>\n",
       "      <td>5.0</td>\n",
       "      <td>Went in for a lunch. Steak sandwich was delici...</td>\n",
       "      <td>0</td>\n",
       "      <td>dacAIZ6fTM6mqwW5uxkskg</td>\n",
       "    </tr>\n",
       "    <tr>\n",
       "      <th>4</th>\n",
       "      <td>b1b1eb3uo-w561D0ZfCEiQ</td>\n",
       "      <td>0</td>\n",
       "      <td>2018-01-30 23:07:38</td>\n",
       "      <td>0</td>\n",
       "      <td>11a8sVPMUFtaC7_ABRkmtw</td>\n",
       "      <td>1.0</td>\n",
       "      <td>Today was my second out of three sessions I ha...</td>\n",
       "      <td>7</td>\n",
       "      <td>ssoyf2_x0EQMed6fgHeMyQ</td>\n",
       "    </tr>\n",
       "  </tbody>\n",
       "</table>\n",
       "</div>"
      ],
      "text/plain": [
       "              business_id  cool                 date  funny  \\\n",
       "0  ujmEBvifdJM6h6RLv4wQIg     0  2013-05-07 04:34:36      1   \n",
       "1  NZnhc2sEQy3RmzKTZnqtwQ     0  2017-01-14 21:30:33      0   \n",
       "2  WTqjgwHlXbSFevF32_DJVw     0  2016-11-09 20:09:03      0   \n",
       "3  ikCg8xy5JIg_NGPx-MSIDA     0  2018-01-09 20:56:38      0   \n",
       "4  b1b1eb3uo-w561D0ZfCEiQ     0  2018-01-30 23:07:38      0   \n",
       "\n",
       "                review_id  stars  \\\n",
       "0  Q1sbwvVQXV2734tPgoKj4Q    1.0   \n",
       "1  GJXCdrto3ASJOqKeVWPi6Q    5.0   \n",
       "2  2TzJjDVDEuAW6MR5Vuc1ug    5.0   \n",
       "3  yi0R0Ugj_xUx_Nek0-_Qig    5.0   \n",
       "4  11a8sVPMUFtaC7_ABRkmtw    1.0   \n",
       "\n",
       "                                                text  useful  \\\n",
       "0  Total bill for this horrible service? Over $8G...       6   \n",
       "1  I *adore* Travis at the Hard Rock's new Kelly ...       0   \n",
       "2  I have to say that this office really has it t...       3   \n",
       "3  Went in for a lunch. Steak sandwich was delici...       0   \n",
       "4  Today was my second out of three sessions I ha...       7   \n",
       "\n",
       "                  user_id  \n",
       "0  hG7b0MtEbXx5QzbzE6C_VA  \n",
       "1  yXQM5uF2jS6es16SJzNHfg  \n",
       "2  n6-Gk65cPZL6Uz8qRm3NYw  \n",
       "3  dacAIZ6fTM6mqwW5uxkskg  \n",
       "4  ssoyf2_x0EQMed6fgHeMyQ  "
      ]
     },
     "execution_count": 3,
     "metadata": {},
     "output_type": "execute_result"
    }
   ],
   "source": [
    "dfreviews.head()"
   ]
  },
  {
   "cell_type": "code",
   "execution_count": 4,
   "metadata": {
    "ExecuteTime": {
     "end_time": "2019-11-26T19:40:22.320670Z",
     "start_time": "2019-11-26T19:40:22.313763Z"
    }
   },
   "outputs": [
    {
     "data": {
      "text/plain": [
       "Index(['business_id', 'cool', 'date', 'funny', 'review_id', 'stars', 'text',\n",
       "       'useful', 'user_id'],\n",
       "      dtype='object')"
      ]
     },
     "execution_count": 4,
     "metadata": {},
     "output_type": "execute_result"
    }
   ],
   "source": [
    "dfreviews.columns"
   ]
  },
  {
   "cell_type": "code",
   "execution_count": 5,
   "metadata": {
    "ExecuteTime": {
     "end_time": "2019-11-26T19:40:22.338739Z",
     "start_time": "2019-11-26T19:40:22.324576Z"
    }
   },
   "outputs": [
    {
     "data": {
      "text/plain": [
       "'Total bill for this horrible service? Over $8Gs. These crooks actually had the nerve to charge us $69 for 3 pills. I checked online the pills can be had for 19 cents EACH! Avoid Hospital ERs at all costs.'"
      ]
     },
     "execution_count": 5,
     "metadata": {},
     "output_type": "execute_result"
    }
   ],
   "source": [
    "dfreviews['text'][0]"
   ]
  },
  {
   "cell_type": "code",
   "execution_count": 6,
   "metadata": {
    "ExecuteTime": {
     "end_time": "2019-11-26T19:40:25.518020Z",
     "start_time": "2019-11-26T19:40:22.343158Z"
    }
   },
   "outputs": [],
   "source": [
    "# For simplicity, drop anything that isn't a letter\n",
    "# Numbers and symbols may have interesting meaning and could be explore later\n",
    "\n",
    "def lettersOnly(string):\n",
    "    return re.sub(\"[^a-zA-Z]\", \" \", string) \n",
    "\n",
    "dfreviews['text'] = dfreviews['text'].apply(lettersOnly)\n"
   ]
  },
  {
   "cell_type": "code",
   "execution_count": 7,
   "metadata": {
    "ExecuteTime": {
     "end_time": "2019-11-26T19:40:25.524928Z",
     "start_time": "2019-11-26T19:40:25.519836Z"
    }
   },
   "outputs": [
    {
     "data": {
      "text/plain": [
       "'Total bill for this horrible service  Over   Gs  These crooks actually had the nerve to charge us     for   pills  I checked online the pills can be had for    cents EACH  Avoid Hospital ERs at all costs '"
      ]
     },
     "execution_count": 7,
     "metadata": {},
     "output_type": "execute_result"
    }
   ],
   "source": [
    "dfreviews['text'][0]"
   ]
  },
  {
   "cell_type": "code",
   "execution_count": 8,
   "metadata": {
    "ExecuteTime": {
     "end_time": "2019-11-26T19:40:25.531502Z",
     "start_time": "2019-11-26T19:40:25.526862Z"
    }
   },
   "outputs": [],
   "source": [
    "def review_to_words(string):\n",
    "    string = re.sub(\"[^a-zA-Z]\", \" \", string) # keep only letters. more complex model possible later\n",
    "    words =  string.lower().split() # make everything lowercase. split into words\n",
    "    stops = set(stopwords.words('english')) # create a fast lookup for stopwords\n",
    "    words = [w for w in words if not w in stops] # remove stopwords\n",
    "    return( \" \".join( words )) # recombine review and return\n",
    "    \n",
    "# dfreviews['text'] = dfreviews['text'].apply(review_to_words) # apply to reviews in dataframe\n"
   ]
  },
  {
   "cell_type": "code",
   "execution_count": 9,
   "metadata": {
    "ExecuteTime": {
     "end_time": "2019-11-26T19:40:45.153404Z",
     "start_time": "2019-11-26T19:40:25.535066Z"
    }
   },
   "outputs": [],
   "source": [
    "dfreviews['text'] = dfreviews['text'].apply(review_to_words)"
   ]
  },
  {
   "cell_type": "code",
   "execution_count": 10,
   "metadata": {
    "ExecuteTime": {
     "end_time": "2019-11-26T19:40:45.160422Z",
     "start_time": "2019-11-26T19:40:45.155335Z"
    }
   },
   "outputs": [
    {
     "data": {
      "text/plain": [
       "'total bill horrible service gs crooks actually nerve charge us pills checked online pills cents avoid hospital ers costs'"
      ]
     },
     "execution_count": 10,
     "metadata": {},
     "output_type": "execute_result"
    }
   ],
   "source": [
    "dfreviews['text'][0]"
   ]
  },
  {
   "cell_type": "code",
   "execution_count": 11,
   "metadata": {
    "ExecuteTime": {
     "end_time": "2019-11-26T19:40:51.545461Z",
     "start_time": "2019-11-26T19:40:45.162713Z"
    }
   },
   "outputs": [
    {
     "name": "stdout",
     "output_type": "stream",
     "text": [
      "Creating the TFIDF...\n",
      "\n"
     ]
    }
   ],
   "source": [
    "print(\"Creating the TFIDF...\\n\")\n",
    "from sklearn.feature_extraction.text import TfidfVectorizer\n",
    "\n",
    "# Initialize the \"TfidfVectorizer\" object, which is scikit-learn's\n",
    "# term frequency, inverse document frequency (TFIDF) tool.  \n",
    "vectorizer = TfidfVectorizer(max_df = 0.1, min_df=15, \\\n",
    "                             analyzer = \"word\",   \\\n",
    "                             tokenizer = None,    \\\n",
    "                             preprocessor = None, \\\n",
    "                             stop_words = None,   \\\n",
    "                             max_features = 5000) # 5000\n",
    "\n",
    "# fit_transform() does two functions: First, it fits the model\n",
    "# and learns the vocabulary; second, it transforms our training data\n",
    "# into feature vectors. The input to fit_transform should be a list of \n",
    "# strings.\n",
    "train_data_features = vectorizer.fit_transform(dfreviews['text'])\n",
    "\n",
    "# Numpy arrays are easy to work with, so convert the result to an \n",
    "# array\n",
    "train_data_features = train_data_features.toarray()"
   ]
  },
  {
   "cell_type": "code",
   "execution_count": 12,
   "metadata": {
    "ExecuteTime": {
     "end_time": "2019-11-26T19:40:51.554130Z",
     "start_time": "2019-11-26T19:40:51.547995Z"
    }
   },
   "outputs": [
    {
     "name": "stdout",
     "output_type": "stream",
     "text": [
      "(100000, 5000)\n"
     ]
    }
   ],
   "source": [
    "print(train_data_features.shape)"
   ]
  },
  {
   "cell_type": "code",
   "execution_count": 13,
   "metadata": {
    "ExecuteTime": {
     "end_time": "2019-11-26T19:40:51.581736Z",
     "start_time": "2019-11-26T19:40:51.556937Z"
    }
   },
   "outputs": [
    {
     "name": "stdout",
     "output_type": "stream",
     "text": [
      "['aaron', 'ability', 'able', 'absolute', 'absolutely', 'ac', 'accept', 'acceptable', 'accepted', 'access', 'accessible', 'accessories', 'accident', 'accidentally', 'accommodate', 'accommodated', 'accommodating', 'accompanied', 'according', 'account', 'accurate', 'acknowledge', 'acknowledged', 'across', 'acrylic', 'act', 'acted', 'acting', 'action', 'active', 'activities', 'activity', 'acts', 'actual', 'actually', 'ad', 'adam', 'add', 'added', 'addicted', 'addictive', 'adding', 'addition', 'additional', 'additionally', 'address', 'addressed', 'adds', 'adequate', 'adjust', 'admission', 'admit', 'admitted', 'adorable', 'adore', 'adult', 'adults', 'advance', 'advantage', 'adventure', 'adventurous', 'advertise', 'advertised', 'advertising', 'advice', 'advise', 'advised', 'afford', 'affordable', 'afraid', 'afternoon', 'afterwards', 'age', 'aged', 'agent', 'ages', 'aggressive', 'ago', 'agree', 'agreed', 'agreement', 'ah', 'ahead', 'ahi', 'ai', 'aioli', 'air', 'airline', 'airport', 'airy', 'aisle', 'aisles', 'aka', 'al', 'alarm', 'alas', 'albeit', 'alcohol', 'alcoholic', 'ale', 'alex', 'alfredo', 'alignment', 'alive', 'allegiant', 'allergic', 'allergies', 'allergy', 'alley', 'allow', 'allowed', 'allowing', 'allows', 'almond', 'almost', 'alone', 'along', 'alot', 'already', 'alright', 'alterations', 'alternative', 'although', 'amazed', 'amazingly', 'amazon', 'ambiance', 'ambience', 'amenities', 'america', 'american', 'americanized', 'among', 'amongst', 'amount', 'amounts', 'ample', 'amy', 'angel', 'angeles', 'angry', 'animal', 'animals', 'ann', 'anniversary', 'annoyed', 'annoying', 'annual', 'another', 'answer', 'answered', 'answering', 'answers', 'anthony', 'anticipated', 'anxiety', 'anybody', 'anyhow', 'anymore', 'anyone', 'anything', 'anytime', 'anyway', 'anyways', 'anywhere', 'apart', 'apartment', 'apartments', 'apologetic', 'apologies', 'apologize', 'apologized', 'apology', 'app', 'apparently', 'appeal', 'appealing', 'appear', 'appearance', 'appeared', 'appears', 'appetite', 'appetizer', 'appetizers', 'appetizing', 'apple', 'apples', 'appliances', 'applied', 'apply', 'appointment', 'appointments', 'appreciate', 'appreciated', 'approach', 'approached', 'appropriate', 'approved', 'approximately', 'apps', 'appt', 'april', 'aquarium', 'arcade', 'area', 'areas', 'arena', 'argue', 'arguing', 'arizona', 'arm', 'arms', 'aroma', 'around', 'arranged', 'arrangement', 'arrangements', 'array', 'arrival', 'arrive', 'arrived', 'arrives', 'arriving', 'arrogant', 'art', 'artichoke', 'artist', 'artists', 'artwork', 'arugula', 'asada', 'asap', 'ashley', 'asian', 'aside', 'ask', 'asked', 'asking', 'asks', 'asparagus', 'aspect', 'ass', 'assigned', 'assist', 'assistance', 'assistant', 'assisted', 'associate', 'associates', 'assorted', 'assortment', 'assume', 'assumed', 'assuming', 'assured', 'asu', 'ate', 'atm', 'atmosphere', 'attached', 'attempt', 'attempted', 'attempts', 'attend', 'attendant', 'attended', 'attending', 'attention', 'attentive', 'attitude', 'attitudes', 'attorney', 'attraction', 'attractive', 'au', 'audience', 'august', 'aunt', 'authentic', 'auto', 'automatically', 'availability', 'available', 'ave', 'avec', 'avenue', 'average', 'avocado', 'avoid', 'avoided', 'aware', 'away', 'awesome', 'awful', 'awhile', 'awkward', 'ayce', 'az', 'babies', 'baby', 'bachelorette', 'backed', 'background', 'backyard', 'bacon', 'bad', 'badly', 'bag', 'bagel', 'bagels', 'bags', 'baja', 'bake', 'baked', 'baker', 'bakery', 'baklava', 'balance', 'balanced', 'balcony', 'ball', 'balls', 'balsamic', 'banana', 'bananas', 'band', 'bands', 'bang', 'banh', 'bank', 'bar', 'barbecue', 'barber', 'bare', 'barely', 'bargain', 'barista', 'bars', 'bartender', 'bartenders', 'base', 'baseball', 'based', 'basement', 'basic', 'basically', 'basics', 'basil', 'basis', 'basket', 'basketball', 'bass', 'batch', 'bath', 'bathroom', 'bathrooms', 'batter', 'battered', 'battery', 'bay', 'bbb', 'bbq', 'bc', 'bday', 'beach', 'bean', 'beans', 'bear', 'beat', 'beatles', 'beats', 'beautiful', 'beautifully', 'beauty', 'became', 'become', 'becomes', 'becoming', 'bed', 'bedroom', 'beds', 'beef', 'beer', 'beers', 'beet', 'beets', 'beforehand', 'began', 'begin', 'beginning', 'behavior', 'behind', 'behold', 'belgian', 'believe', 'bell', 'bellagio', 'belly', 'belt', 'ben', 'benches', 'benedict', 'benefit', 'bento', 'berries', 'berry', 'beside', 'besides', 'bet', 'better', 'beverage', 'beverages', 'beware', 'beyond', 'bf', 'bi', 'bianco', 'bien', 'big', 'bigger', 'biggest', 'bike', 'bikes', 'bill', 'billing', 'bills', 'bird', 'birds', 'birth', 'birthday', 'biryani', 'biscuit', 'biscuits', 'bison', 'bisque', 'bistro', 'bit', 'bite', 'bites', 'bits', 'bitter', 'biz', 'black', 'blackened', 'blah', 'blame', 'bland', 'blast', 'blend', 'blended', 'bleu', 'blew', 'block', 'blocks', 'blonde', 'blood', 'bloody', 'bloor', 'blow', 'blowing', 'blown', 'blows', 'blt', 'blue', 'blueberry', 'blvd', 'bmw', 'board', 'boarding', 'boat', 'bob', 'boba', 'body', 'boiled', 'bold', 'bomb', 'bon', 'bone', 'boneless', 'bones', 'bonne', 'bonus', 'book', 'booked', 'booking', 'books', 'boot', 'booth', 'booths', 'boots', 'booze', 'border', 'bored', 'boring', 'born', 'boss', 'boston', 'bother', 'bothered', 'bothering', 'bottle', 'bottled', 'bottles', 'bottom', 'bottomless', 'bought', 'bourbon', 'boutique', 'bowl', 'bowling', 'bowls', 'box', 'boxes', 'boy', 'boyfriend', 'boys', 'br', 'brain', 'braised', 'brake', 'brakes', 'branch', 'brand', 'brandon', 'brands', 'bravo', 'brazilian', 'bread', 'breaded', 'breading', 'breads', 'break', 'breakfast', 'breakfasts', 'breaking', 'breaks', 'breast', 'breath', 'breeze', 'brew', 'brewed', 'brewery', 'brews', 'brian', 'brick', 'bridal', 'bride', 'brie', 'brief', 'bright', 'brilliant', 'bring', 'bringing', 'brings', 'brioche', 'brisket', 'broccoli', 'broke', 'broken', 'broth', 'brother', 'brothers', 'brought', 'brown', 'brownie', 'browns', 'brows', 'browse', 'browsing', 'brulee', 'brunch', 'bruschetta', 'brussel', 'brussels', 'bs', 'btw', 'bubble', 'buck', 'bucket', 'bucks', 'buddy', 'budget', 'buds', 'buffalo', 'buffet', 'buffets', 'bug', 'bugs', 'build', 'building', 'buildings', 'built', 'bulgogi', 'bulk', 'bummed', 'bummer', 'bumper', 'bun', 'bunch', 'buns', 'burger', 'burgers', 'burn', 'burned', 'burning', 'burnt', 'burrito', 'burritos', 'bus', 'busier', 'business', 'businesses', 'busy', 'butcher', 'butt', 'butter', 'buttermilk', 'butternut', 'buttery', 'button', 'buy', 'buyer', 'buying', 'buzz', 'bye', 'ca', 'cab', 'cabbage', 'cable', 'caesar', 'caesars', 'caf', 'cafe', 'cafeteria', 'cajun', 'cake', 'cakes', 'calamari', 'calgary', 'cali', 'california', 'call', 'called', 'calling', 'calls', 'calm', 'calories', 'calzone', 'camelback', 'camera', 'cameras', 'camp', 'campus', 'canada', 'canadian', 'canal', 'cancel', 'cancelled', 'cancer', 'candle', 'candles', 'candy', 'canned', 'cannoli', 'cannot', 'cant', 'cantonese', 'canyon', 'cap', 'cappuccino', 'caprese', 'captain', 'car', 'caramel', 'caramelized', 'card', 'cardboard', 'cardio', 'cards', 'care', 'cared', 'careful', 'carefully', 'cares', 'caring', 'carne', 'carnitas', 'carolina', 'carpet', 'carpets', 'carried', 'carries', 'carrot', 'carrots', 'carry', 'carrying', 'cars', 'cart', 'carte', 'carts', 'case', 'cases', 'cash', 'cashier', 'cashiers', 'casino', 'casinos', 'cast', 'casual', 'cat', 'catch', 'catching', 'cater', 'catering', 'cats', 'caught', 'cauliflower', 'cause', 'caused', 'causing', 'ce', 'ceiling', 'ceilings', 'celebrate', 'celebrating', 'celebration', 'celery', 'cell', 'cent', 'center', 'central', 'centre', 'cents', 'ceremony', 'certain', 'certainly', 'certificate', 'certified', 'cesar', 'ceviche', 'chai', 'chain', 'chains', 'chair', 'chairs', 'challenge', 'challenging', 'champagne', 'chance', 'chances', 'chandler', 'change', 'changed', 'changes', 'changing', 'char', 'character', 'charcuterie', 'charge', 'charged', 'charges', 'charging', 'charles', 'charlotte', 'charm', 'charming', 'charred', 'chat', 'chatted', 'chatting', 'cheap', 'cheaper', 'cheapest', 'check', 'checked', 'checking', 'checkout', 'checks', 'cheddar', 'cheerful', 'cheers', 'cheese', 'cheeseburger', 'cheesecake', 'cheeses', 'cheesesteak', 'cheesy', 'chef', 'chefs', 'cherry', 'chew', 'chewy', 'chic', 'chicago', 'chick', 'chicken', 'child', 'childhood', 'children', 'chile', 'chili', 'chill', 'chilled', 'chilli', 'chilly', 'chimichanga', 'china', 'chinatown', 'chinese', 'chino', 'chip', 'chipotle', 'chipped', 'chips', 'chocolate', 'chocolates', 'choice', 'choices', 'choose', 'choosing', 'chop', 'chopped', 'chops', 'chorizo', 'chose', 'chosen', 'chow', 'chowder', 'chris', 'christmas', 'chuck', 'chunks', 'chunky', 'church', 'cider', 'cigarette', 'cilantro', 'cinnamon', 'circle', 'cirque', 'cities', 'citrus', 'city', 'claim', 'claimed', 'claims', 'clam', 'clams', 'class', 'classes', 'classic', 'classics', 'classy', 'clean', 'cleaned', 'cleaner', 'cleaners', 'cleaning', 'cleanliness', 'clear', 'cleared', 'clearly', 'clerk', 'cleveland', 'client', 'clientele', 'clients', 'clinic', 'clock', 'close', 'closed', 'closer', 'closes', 'closest', 'closet', 'closing', 'clothes', 'clothing', 'club', 'clubs', 'clue', 'clueless', 'co', 'coach', 'coast', 'coat', 'cobbler', 'cocktail', 'cocktails', 'coconut', 'cod', 'code', 'coffee', 'coffees', 'coke', 'cold', 'cole', 'coleslaw', 'colleague', 'colleagues', 'collection', 'college', 'color', 'colored', 'colorful', 'colors', 'colour', 'com', 'combination', 'combinations', 'combined', 'combo', 'combos', 'comedy', 'comes', 'comfort', 'comfortable', 'comforting', 'comfy', 'coming', 'comment', 'commented', 'comments', 'commercial', 'common', 'communicate', 'communication', 'community', 'comp', 'companies', 'companion', 'company', 'comparable', 'compare', 'compared', 'comparing', 'comparison', 'comped', 'competent', 'competition', 'competitive', 'competitors', 'complain', 'complained', 'complaining', 'complaint', 'complaints', 'complete', 'completed', 'completely', 'complex', 'complicated', 'compliment', 'complimentary', 'complimented', 'compliments', 'computer', 'con', 'concept', 'concern', 'concerned', 'concerns', 'concert', 'concierge', 'conclusion', 'concrete', 'condescending', 'condiments', 'condition', 'conditioner', 'conditioning', 'condo', 'cone', 'conference', 'confidence', 'confident', 'confirm', 'confirmation', 'confirmed', 'confused', 'confusing', 'confusion', 'congee', 'connected', 'connection', 'cons', 'consider', 'considered', 'considering', 'consisted', 'consistency', 'consistent', 'consistently', 'consists', 'constant', 'constantly', 'construction', 'consultation', 'contact', 'contacted', 'contained', 'container', 'containers', 'contemporary', 'content', 'continue', 'continued', 'continues', 'contract', 'contrast', 'control', 'convenience', 'convenient', 'conveniently', 'convention', 'conversation', 'conversations', 'convince', 'convinced', 'cook', 'cooked', 'cookie', 'cookies', 'cooking', 'cooks', 'cool', 'cooler', 'coolest', 'copy', 'cor', 'core', 'corn', 'cornbread', 'corned', 'corner', 'corners', 'corporate', 'correct', 'corrected', 'correctly', 'cosmopolitan', 'cost', 'costco', 'costs', 'costumes', 'cotton', 'couch', 'couches', 'couldnt', 'count', 'counter', 'countless', 'country', 'county', 'couple', 'couples', 'coupon', 'coupons', 'course', 'courses', 'court', 'courteous', 'courtesy', 'cousin', 'cover', 'coverage', 'covered', 'covers', 'cow', 'coworker', 'coworkers', 'cox', 'cozy', 'cr', 'crab', 'crack', 'cracked', 'crackers', 'craft', 'crafted', 'cramped', 'cranberry', 'crap', 'crappy', 'crave', 'craving', 'cravings', 'crawfish', 'crazy', 'cream', 'creamy', 'create', 'created', 'creating', 'creative', 'credit', 'creek', 'creepy', 'creme', 'crepe', 'crepes', 'crew', 'crisp', 'crispy', 'criticism', 'croissant', 'croissants', 'cross', 'crowd', 'crowded', 'crowds', 'crown', 'crunch', 'crunchy', 'crushed', 'crust', 'crusted', 'cry', 'crying', 'cuban', 'cubes', 'cucumber', 'cucumbers', 'cuisine', 'culinary', 'culture', 'cup', 'cupcake', 'cupcakes', 'cups', 'curds', 'curious', 'curly', 'current', 'currently', 'curries', 'curry', 'custard', 'custom', 'customer', 'customers', 'customize', 'cut', 'cute', 'cuts', 'cutting', 'cuz', 'da', 'dad', 'daily', 'dairy', 'dam', 'damage', 'damaged', 'damn', 'dan', 'dance', 'dancers', 'dancing', 'dang', 'dangerous', 'dans', 'dare', 'dark', 'darn', 'date', 'dated', 'dates', 'daughter', 'daughters', 'dave', 'david', 'day', 'days', 'dc', 'de', 'dead', 'deal', 'dealer', 'dealers', 'dealership', 'dealing', 'deals', 'dealt', 'dear', 'death', 'debit', 'decadent', 'december', 'decent', 'decently', 'decide', 'decided', 'deciding', 'decision', 'decisions', 'deck', 'declined', 'decor', 'decorated', 'decorations', 'dedicated', 'deep', 'def', 'defiantly', 'definately', 'definite', 'degree', 'degrees', 'delay', 'delayed', 'delectable', 'deli', 'delicate', 'deliciously', 'deliciousness', 'delight', 'delighted', 'delightful', 'delish', 'deliver', 'delivered', 'delivering', 'delivers', 'delivery', 'deluxe', 'demand', 'denied', 'denny', 'dense', 'dental', 'dentist', 'dentists', 'department', 'depending', 'depends', 'deposit', 'depot', 'depth', 'des', 'describe', 'described', 'description', 'desert', 'deserts', 'deserve', 'deserved', 'deserves', 'design', 'designed', 'designer', 'designs', 'desire', 'desired', 'desk', 'desperate', 'despite', 'dessert', 'desserts', 'destination', 'detail', 'detailed', 'details', 'determined', 'deviled', 'devoured', 'diagnosed', 'diamond', 'didnt', 'die', 'died', 'diego', 'diet', 'dietary', 'difference', 'different', 'differently', 'difficult', 'dig', 'dill', 'dim', 'dime', 'dine', 'dined', 'diner', 'diners', 'dining', 'dinner', 'dinners', 'dinning', 'dip', 'dipped', 'dipping', 'direct', 'directed', 'direction', 'directions', 'directly', 'dirt', 'dirty', 'disappeared', 'disappoint', 'disappointed', 'disappointing', 'disappointment', 'disappoints', 'disaster', 'discount', 'discounted', 'discounts', 'discover', 'discovered', 'discuss', 'discussed', 'disgusted', 'disgusting', 'dish', 'dishes', 'dislike', 'disorganized', 'display', 'displayed', 'disrespectful', 'distance', 'distracted', 'district', 'dive', 'diverse', 'divine', 'dj', 'doctor', 'doctors', 'doesnt', 'dog', 'dogs', 'dollar', 'dollars', 'done', 'dont', 'donut', 'donuts', 'door', 'doors', 'double', 'doubt', 'dough', 'doughnuts', 'doughy', 'downhill', 'downside', 'downstairs', 'downtown', 'dozen', 'dozens', 'dr', 'draft', 'dragon', 'drain', 'drank', 'draw', 'dream', 'dreams', 'drenched', 'dress', 'dressed', 'dresses', 'dressing', 'drew', 'dried', 'drink', 'drinker', 'drinking', 'drinks', 'dripping', 'drive', 'driven', 'driver', 'drivers', 'driving', 'drizzle', 'drizzled', 'drop', 'dropped', 'dropping', 'drops', 'drove', 'drunk', 'drunken', 'dry', 'dryer', 'du', 'duck', 'dude', 'due', 'dumb', 'dump', 'dumpling', 'dumplings', 'dust', 'duty', 'dying', 'eager', 'ear', 'earl', 'earlier', 'early', 'earn', 'earned', 'ears', 'earth', 'ease', 'easier', 'easily', 'east', 'eastern', 'easy', 'eat', 'eaten', 'eater', 'eateries', 'eaters', 'eatery', 'eating', 'eats', 'eclectic', 'ed', 'edamame', 'edge', 'edges', 'edible', 'edit', 'eel', 'effect', 'effective', 'efficient', 'efficiently', 'effort', 'egg', 'eggplant', 'eggs', 'eggslut', 'eh', 'eight', 'either', 'el', 'elderly', 'electric', 'electronic', 'elegant', 'elements', 'elevator', 'elevators', 'elite', 'else', 'elsewhere', 'em', 'email', 'emailed', 'emails', 'embarrassed', 'embarrassing', 'emergency', 'empanadas', 'employee', 'employees', 'empty', 'en', 'enchilada', 'enchiladas', 'encore', 'encounter', 'encountered', 'encourage', 'end', 'ended', 'ending', 'endless', 'endroit', 'ends', 'energetic', 'energy', 'engaging', 'engine', 'english', 'enjoy', 'enjoyable', 'enjoyed', 'enjoying', 'enjoys', 'enormous', 'enough', 'ensure', 'enter', 'entered', 'entering', 'enterprise', 'entertained', 'entertaining', 'entertainment', 'enthusiastic', 'entire', 'entirely', 'entr', 'entrance', 'entree', 'entrees', 'entry', 'environment', 'epic', 'equal', 'equally', 'equipment', 'er', 'eric', 'error', 'es', 'escape', 'especially', 'espresso', 'essentially', 'est', 'establishment', 'establishments', 'estate', 'estimate', 'et', 'etc', 'european', 'eve', 'evening', 'evenings', 'event', 'events', 'eventually', 'ever', 'every', 'everybody', 'everyday', 'everyone', 'everything', 'everytime', 'everywhere', 'ew', 'ex', 'exact', 'exactly', 'exam', 'example', 'exceeded', 'excellent', 'except', 'exception', 'exceptional', 'exceptionally', 'excessive', 'exchange', 'excited', 'excitement', 'exciting', 'excuse', 'excuses', 'executed', 'execution', 'exercise', 'exhibit', 'exhibits', 'exist', 'existent', 'exit', 'exotic', 'expanded', 'expect', 'expectation', 'expectations', 'expected', 'expecting', 'expensive', 'experienced', 'experiences', 'experiencing', 'expert', 'expertise', 'explain', 'explained', 'explaining', 'explains', 'explanation', 'explore', 'express', 'expressed', 'exquisite', 'extended', 'extensions', 'extensive', 'exterior', 'extra', 'extraordinary', 'extras', 'extreme', 'extremely', 'eye', 'eyebrow', 'eyebrows', 'eyes', 'fabric', 'fabulous', 'face', 'facebook', 'faces', 'facial', 'facilities', 'facility', 'facing', 'fact', 'factor', 'factory', 'fail', 'failed', 'fair', 'fairly', 'fajita', 'fajitas', 'fake', 'falafel', 'fall', 'falling', 'falls', 'false', 'familiar', 'families', 'family', 'famous', 'fan', 'fancy', 'fans', 'fantastic', 'far', 'fare', 'farm', 'farmer', 'fashion', 'fashioned', 'fast', 'faster', 'fat', 'father', 'fatty', 'fault', 'fav', 'fave', 'favor', 'favorite', 'favorites', 'favourite', 'favourites', 'fear', 'feast', 'feature', 'featured', 'features', 'february', 'fed', 'fee', 'feed', 'feedback', 'feel', 'feeling', 'feelings', 'feels', 'fees', 'feet', 'fell', 'fellow', 'felt', 'female', 'festival', 'feta', 'fi', 'fianc', 'fiance', 'field', 'fieri', 'fig', 'fight', 'figure', 'figured', 'file', 'filed', 'filet', 'filipino', 'fill', 'filled', 'filling', 'fillings', 'fills', 'film', 'filter', 'filthy', 'final', 'finally', 'financial', 'find', 'finding', 'finds', 'fine', 'finest', 'finger', 'fingers', 'finish', 'finished', 'finishing', 'fire', 'fired', 'fireplace', 'firm', 'fish', 'fishy', 'fit', 'fitness', 'fits', 'fitting', 'five', 'fix', 'fixe', 'fixed', 'fixing', 'flag', 'flaky', 'flamingo', 'flan', 'flat', 'flatbread', 'flavor', 'flavored', 'flavorful', 'flavorless', 'flavors', 'flavour', 'flavourful', 'flavours', 'flawless', 'flexible', 'flies', 'flight', 'flights', 'flip', 'floating', 'floor', 'flooring', 'floors', 'flour', 'flow', 'flower', 'flowers', 'fluffy', 'fly', 'flying', 'foam', 'focus', 'focused', 'foie', 'folks', 'follow', 'followed', 'following', 'fond', 'fondue', 'foodie', 'foods', 'fool', 'fooled', 'foot', 'football', 'force', 'forced', 'ford', 'forever', 'forget', 'forgetting', 'forgot', 'forgotten', 'fork', 'form', 'former', 'forth', 'fortunately', 'fortune', 'forward', 'found', 'fountain', 'fountains', 'four', 'fourth', 'fox', 'frame', 'frames', 'franchise', 'francisco', 'frank', 'frankly', 'freaking', 'free', 'freeway', 'freezer', 'french', 'frequent', 'frequently', 'fresh', 'freshest', 'freshly', 'freshness', 'friday', 'fridays', 'fridge', 'fried', 'friend', 'friendliest', 'friendliness', 'friends', 'fries', 'frills', 'frites', 'front', 'frosting', 'frozen', 'fruit', 'fruits', 'fruity', 'frustrated', 'frustrating', 'frustration', 'fry', 'fucking', 'fuel', 'full', 'fully', 'fun', 'funky', 'funny', 'fur', 'furniture', 'fusion', 'future', 'fyi', 'gal', 'gallo', 'gamble', 'gambling', 'game', 'games', 'gaming', 'garage', 'garbage', 'garden', 'garlic', 'garnish', 'gas', 'gate', 'gave', 'gear', 'gel', 'gelato', 'gem', 'general', 'generally', 'generic', 'generous', 'genius', 'gentle', 'gentleman', 'gentlemen', 'genuine', 'genuinely', 'george', 'german', 'gets', 'getting', 'gf', 'ghetto', 'giant', 'gift', 'gifts', 'gigantic', 'gilbert', 'gin', 'ginger', 'girl', 'girlfriend', 'girlfriends', 'girls', 'give', 'given', 'gives', 'giving', 'glad', 'gladly', 'glass', 'glasses', 'glaze', 'glazed', 'glendale', 'gloves', 'gluten', 'gm', 'gnocchi', 'goat', 'god', 'goes', 'going', 'gold', 'golden', 'golf', 'gone', 'gonna', 'goodies', 'goodness', 'goods', 'gooey', 'google', 'gorgeous', 'gotta', 'gotten', 'gourmet', 'grab', 'grabbed', 'grabbing', 'grace', 'gracious', 'grade', 'grain', 'grand', 'grandma', 'granted', 'grape', 'grapefruit', 'gras', 'grass', 'grateful', 'gratuity', 'gravy', 'grease', 'greasy', 'greater', 'greatest', 'greatly', 'greek', 'green', 'greens', 'greet', 'greeted', 'greeting', 'grew', 'grey', 'grill', 'grilled', 'gripe', 'grits', 'groceries', 'grocery', 'groomer', 'grooming', 'gross', 'ground', 'grounds', 'group', 'groupon', 'groups', 'grow', 'growing', 'grown', 'grub', 'gta', 'guac', 'guacamole', 'guarantee', 'guaranteed', 'guard', 'guess', 'guessing', 'guest', 'guests', 'guide', 'guilty', 'gun', 'guns', 'guy', 'guys', 'gym', 'gyms', 'gyoza', 'gyro', 'gyros', 'ha', 'habit', 'haha', 'hair', 'haircut', 'haircuts', 'half', 'halfway', 'halibut', 'hall', 'hallway', 'halo', 'ham', 'hamburger', 'hand', 'handed', 'handful', 'handle', 'handled', 'handling', 'handmade', 'hands', 'hang', 'hanging', 'hangout', 'hangover', 'happen', 'happened', 'happening', 'happens', 'happier', 'happily', 'happy', 'hard', 'harder', 'hardly', 'harsh', 'hash', 'hassle', 'hat', 'hate', 'hated', 'hats', 'hawaii', 'hawaiian', 'head', 'headache', 'headed', 'heading', 'heads', 'healing', 'health', 'healthier', 'healthy', 'hear', 'heard', 'hearing', 'heart', 'hearty', 'heat', 'heated', 'heater', 'heather', 'heaven', 'heavenly', 'heavily', 'heavy', 'heck', 'held', 'hell', 'hello', 'help', 'helped', 'helpful', 'helping', 'helps', 'hence', 'henderson', 'herb', 'herbs', 'hertz', 'hesitant', 'hesitate', 'hesitation', 'hey', 'hh', 'hi', 'hibachi', 'hidden', 'high', 'higher', 'highest', 'highlight', 'highlights', 'highly', 'highway', 'hike', 'hilarious', 'hill', 'hills', 'hilton', 'hint', 'hip', 'hipster', 'hire', 'hired', 'hiring', 'history', 'hit', 'hits', 'hitting', 'hockey', 'hold', 'holding', 'holds', 'hole', 'holes', 'holiday', 'holidays', 'hollandaise', 'hollywood', 'holy', 'home', 'homemade', 'homes', 'homey', 'honda', 'honest', 'honestly', 'honesty', 'honey', 'hong', 'honor', 'hood', 'hook', 'hookah', 'hooked', 'hop', 'hope', 'hoped', 'hopefully', 'hopes', 'hoping', 'horchata', 'horrendous', 'horrible', 'horribly', 'horseradish', 'hospital', 'hospitality', 'host', 'hostess', 'hostesses', 'hosts', 'hot', 'hotdog', 'hotel', 'hotels', 'hour', 'hours', 'house', 'housekeeping', 'houses', 'however', 'hr', 'hrs', 'http', 'hubby', 'hubs', 'huge', 'human', 'humble', 'hummus', 'humor', 'hundred', 'hundreds', 'hung', 'hunger', 'hungry', 'hunt', 'hurry', 'hurt', 'husband', 'husbands', 'hut', 'hype', 'ice', 'iceberg', 'iced', 'icing', 'id', 'idea', 'ideal', 'ideas', 'idiot', 'ignore', 'ignored', 'ikea', 'il', 'ill', 'im', 'imagine', 'immediate', 'immediately', 'imo', 'impeccable', 'important', 'importantly', 'impossible', 'impress', 'impressed', 'impression', 'impressive', 'improve', 'improved', 'improvement', 'inch', 'inches', 'incident', 'include', 'included', 'includes', 'including', 'incompetent', 'inconsistent', 'inconvenience', 'incorrect', 'incorrectly', 'increase', 'increased', 'incredible', 'incredibly', 'indeed', 'independent', 'india', 'indian', 'individual', 'indoor', 'industrial', 'industry', 'inedible', 'inexpensive', 'infection', 'info', 'inform', 'information', 'informative', 'informed', 'infused', 'ingredient', 'ingredients', 'initial', 'initially', 'injury', 'inn', 'ins', 'insane', 'insanely', 'inside', 'insisted', 'inspection', 'inspired', 'instagram', 'install', 'installation', 'installed', 'instant', 'instantly', 'instead', 'instructions', 'instructor', 'instructors', 'insult', 'insurance', 'integrity', 'intended', 'intense', 'interaction', 'interactive', 'interest', 'interested', 'interesting', 'interior', 'international', 'internet', 'intimate', 'introduced', 'inventory', 'invited', 'inviting', 'involved', 'ipa', 'ipad', 'iphone', 'irish', 'iron', 'irritated', 'ish', 'island', 'issue', 'issues', 'italian', 'italy', 'item', 'items', 'ive', 'jack', 'jacket', 'jacuzzi', 'jade', 'jalape', 'jalapeno', 'jalapenos', 'jam', 'james', 'january', 'japan', 'japanese', 'jar', 'jasmine', 'jason', 'jazz', 'je', 'jeans', 'jeff', 'jelly', 'jennifer', 'jerk', 'jerky', 'jersey', 'jessica', 'jewelry', 'jim', 'jimmy', 'job', 'jobs', 'joe', 'john', 'join', 'joined', 'joint', 'joints', 'joke', 'jokes', 'jon', 'josh', 'journey', 'joy', 'juan', 'judge', 'juice', 'juices', 'juicy', 'july', 'jumbo', 'jump', 'jumped', 'jun', 'june', 'jungle', 'junk', 'jus', 'justify', 'justin', 'kabob', 'kalbi', 'kale', 'karaoke', 'katsu', 'kaya', 'keep', 'keeping', 'keeps', 'keg', 'kelly', 'ken', 'kept', 'ketchup', 'kevin', 'key', 'keys', 'kick', 'kicked', 'kid', 'kidding', 'kids', 'kill', 'killed', 'killer', 'kim', 'kimchi', 'kind', 'kinda', 'kindly', 'kindness', 'kinds', 'king', 'kinks', 'kiosk', 'kitchen', 'knew', 'knife', 'knock', 'knocked', 'knots', 'know', 'knowing', 'knowledgable', 'knowledge', 'knowledgeable', 'known', 'knows', 'kobe', 'kong', 'korean', 'kudos', 'kung', 'la', 'lab', 'labor', 'lack', 'lacked', 'lacking', 'lackluster', 'lacks', 'ladies', 'lady', 'laid', 'lake', 'lamb', 'lame', 'land', 'lane', 'lanes', 'language', 'laptop', 'large', 'larger', 'largest', 'las', 'lasagna', 'laser', 'lash', 'lashes', 'last', 'lasted', 'lastly', 'late', 'lately', 'later', 'latest', 'latin', 'latte', 'lattes', 'laugh', 'laughed', 'laughing', 'laundry', 'lavender', 'law', 'laws', 'lay', 'layer', 'layers', 'layout', 'lazy', 'lb', 'lbs', 'le', 'lead', 'leading', 'leads', 'leaf', 'leak', 'lean', 'learn', 'learned', 'learning', 'lease', 'least', 'leather', 'leave', 'leaves', 'leaving', 'led', 'lee', 'left', 'leftover', 'leftovers', 'leg', 'legal', 'legit', 'legs', 'lemon', 'lemonade', 'length', 'lentil', 'les', 'less', 'lesson', 'lessons', 'let', 'lets', 'letter', 'letting', 'lettuce', 'level', 'levels', 'library', 'license', 'lie', 'lied', 'life', 'lifetime', 'lift', 'light', 'lighter', 'lighting', 'lightly', 'lights', 'liked', 'likely', 'likes', 'liking', 'lil', 'lime', 'limit', 'limited', 'line', 'lined', 'lines', 'link', 'lip', 'liquid', 'liquor', 'lisa', 'list', 'listed', 'listen', 'listened', 'listening', 'listens', 'lit', 'literally', 'live', 'lived', 'lively', 'liver', 'lives', 'living', 'lo', 'load', 'loaded', 'loads', 'loaf', 'loan', 'lobby', 'lobster', 'local', 'locally', 'locals', 'located', 'location', 'locations', 'lock', 'locked', 'locker', 'lol', 'long', 'longer', 'look', 'looked', 'looking', 'looks', 'loose', 'los', 'lose', 'losing', 'loss', 'lost', 'lot', 'lots', 'loud', 'loudly', 'louis', 'lounge', 'lousy', 'loved', 'lovely', 'lover', 'lovers', 'loves', 'loving', 'low', 'lower', 'lowest', 'lox', 'loyal', 'loyalty', 'luck', 'luckily', 'lucky', 'luggage', 'luke', 'lukewarm', 'lunch', 'lunches', 'lunchtime', 'luxury', 'lv', 'lychee', 'lying', 'mac', 'macaroni', 'macarons', 'macaroons', 'machine', 'machines', 'mad', 'madison', 'magic', 'magical', 'mahi', 'mai', 'mail', 'main', 'mainly', 'mains', 'maintain', 'maintained', 'maintenance', 'mais', 'major', 'majority', 'maker', 'makes', 'makeup', 'maki', 'making', 'malaysian', 'male', 'mall', 'mama', 'man', 'manage', 'managed', 'management', 'manager', 'managers', 'mandalay', 'manger', 'mango', 'mani', 'manicure', 'manner', 'many', 'maple', 'marble', 'march', 'margarita', 'margaritas', 'margherita', 'maria', 'marinara', 'marinated', 'mark', 'marked', 'market', 'marketing', 'markham', 'marks', 'married', 'mart', 'martini', 'martinis', 'mary', 'masala', 'mash', 'mashed', 'mass', 'massage', 'massages', 'massive', 'master', 'match', 'matcha', 'matched', 'material', 'matt', 'matter', 'matters', 'mattress', 'max', 'may', 'maybe', 'mayo', 'mcdonald', 'mcdonalds', 'meal', 'meals', 'mean', 'meaning', 'means', 'meant', 'measure', 'meat', 'meatball', 'meatballs', 'meatloaf', 'meats', 'meaty', 'mechanic', 'mechanics', 'med', 'media', 'medical', 'medication', 'medicine', 'mediocre', 'mediterranean', 'medium', 'meds', 'meet', 'meeting', 'meetings', 'meets', 'meh', 'mein', 'melissa', 'melt', 'melted', 'melts', 'member', 'members', 'membership', 'memorable', 'memorial', 'memories', 'memory', 'men', 'mention', 'mentioned', 'mentioning', 'menu', 'menus', 'mercedes', 'merchandise', 'mesa', 'mess', 'message', 'messages', 'messed', 'messy', 'met', 'metal', 'metro', 'mex', 'mexican', 'mexico', 'mgm', 'mi', 'michael', 'michelle', 'microwave', 'microwaved', 'mid', 'middle', 'midnight', 'might', 'mignon', 'mike', 'mild', 'mile', 'miles', 'military', 'milk', 'milkshake', 'milkshakes', 'mill', 'million', 'mimosa', 'mimosas', 'min', 'mind', 'mine', 'mini', 'minimal', 'minimum', 'minor', 'mins', 'mint', 'minus', 'minute', 'minutes', 'mirage', 'mirror', 'miserable', 'miso', 'miss', 'missed', 'missing', 'mission', 'mississauga', 'mistake', 'mistakes', 'mix', 'mixed', 'mixing', 'mixture', 'mmm', 'mobile', 'mocha', 'model', 'modern', 'moist', 'mojito', 'mole', 'mom', 'moment', 'moments', 'mon', 'monday', 'mondays', 'money', 'mongolian', 'monkey', 'monster', 'month', 'monthly', 'months', 'montreal', 'mood', 'moon', 'morning', 'mornings', 'mostly', 'mother', 'motor', 'mountain', 'mousse', 'mouth', 'move', 'moved', 'movers', 'moves', 'movie', 'movies', 'moving', 'mozzarella', 'mr', 'ms', 'msg', 'muffin', 'muffins', 'multi', 'multiple', 'museum', 'mushroom', 'mushrooms', 'mushy', 'music', 'mussels', 'must', 'mustard', 'mystery', 'naan', 'nachos', 'nail', 'nails', 'naked', 'name', 'named', 'names', 'napkin', 'napkins', 'narrow', 'nasty', 'national', 'native', 'natural', 'naturally', 'nature', 'navigate', 'nc', 'nd', 'ne', 'near', 'nearby', 'nearly', 'neat', 'necessarily', 'necessary', 'neck', 'need', 'needed', 'needing', 'needless', 'needs', 'negative', 'neighbor', 'neighborhood', 'neighbors', 'neighbourhood', 'neither', 'neon', 'nerve', 'nervous', 'network', 'nevada', 'nevertheless', 'new', 'newer', 'newly', 'news', 'next', 'nicely', 'nicer', 'nicest', 'nick', 'nicole', 'night', 'nightclub', 'nightmare', 'nights', 'nigiri', 'nine', 'nobody', 'noise', 'noisy', 'nom', 'non', 'none', 'nonetheless', 'noodle', 'noodles', 'noon', 'nope', 'norm', 'normal', 'normally', 'north', 'northern', 'nose', 'notch', 'note', 'noted', 'notes', 'nothing', 'notice', 'noticed', 'notified', 'nous', 'november', 'nowhere', 'number', 'numbers', 'numerous', 'nurse', 'nurses', 'nut', 'nutella', 'nuts', 'ny', 'nyc', 'oatmeal', 'obnoxious', 'obsessed', 'obvious', 'obviously', 'occasion', 'occasional', 'occasionally', 'occasions', 'occupied', 'october', 'octopus', 'odd', 'oddly', 'offer', 'offered', 'offering', 'offerings', 'offers', 'office', 'offices', 'officially', 'often', 'oh', 'ohio', 'oil', 'oily', 'ok', 'okay', 'ol', 'old', 'older', 'olive', 'olives', 'omelet', 'omelette', 'omg', 'ones', 'onion', 'onions', 'online', 'onto', 'open', 'opened', 'opening', 'opens', 'operation', 'opinion', 'opportunity', 'opposed', 'opposite', 'opt', 'opted', 'option', 'options', 'orange', 'ordering', 'orders', 'ordinary', 'oreo', 'organic', 'organization', 'organized', 'oriented', 'original', 'originally', 'os', 'others', 'otherwise', 'ou', 'ounce', 'outback', 'outdated', 'outdoor', 'outdoors', 'outlet', 'outlets', 'outrageous', 'outside', 'outstanding', 'oven', 'overall', 'overcharged', 'overcooked', 'overheard', 'overly', 'overnight', 'overpowering', 'overpriced', 'overrated', 'overwhelmed', 'overwhelming', 'owned', 'owner', 'owners', 'ownership', 'oyster', 'oysters', 'oz', 'pa', 'pace', 'pack', 'package', 'packaged', 'packages', 'packed', 'packs', 'pad', 'paella', 'page', 'paid', 'pain', 'painful', 'painless', 'paint', 'painted', 'painting', 'pair', 'paired', 'pairing', 'pairs', 'palace', 'palate', 'palazzo', 'pan', 'pancake', 'pancakes', 'panda', 'paneer', 'panera', 'panini', 'pants', 'pao', 'papa', 'papaya', 'paper', 'paperwork', 'par', 'paradise', 'parents', 'paris', 'park', 'parked', 'parking', 'parm', 'parmesan', 'part', 'particular', 'particularly', 'parties', 'partner', 'parts', 'party', 'pas', 'pass', 'passed', 'passes', 'passing', 'passion', 'passionate', 'past', 'pasta', 'pastas', 'paste', 'pastor', 'pastrami', 'pastries', 'pastry', 'path', 'pathetic', 'patience', 'patient', 'patiently', 'patients', 'patio', 'patrick', 'patron', 'patrons', 'patties', 'patty', 'paul', 'pay', 'paying', 'payless', 'payment', 'peace', 'peaceful', 'peach', 'peak', 'peanut', 'peanuts', 'pear', 'peas', 'pecan', 'pedi', 'pedicure', 'pedicures', 'penne', 'penny', 'pepper', 'peppermill', 'pepperoni', 'peppers', 'per', 'perfect', 'perfection', 'perfectly', 'perform', 'performance', 'performed', 'performers', 'perhaps', 'period', 'person', 'personable', 'personal', 'personality', 'personally', 'personnel', 'peruvian', 'pesto', 'pet', 'petit', 'petite', 'pets', 'peu', 'pharmacy', 'phenomenal', 'philly', 'pho', 'phoenix', 'phone', 'phones', 'photo', 'photos', 'phx', 'physical', 'piano', 'pic', 'pick', 'picked', 'picking', 'pickle', 'pickled', 'pickles', 'pickup', 'picky', 'picnic', 'pico', 'pics', 'picture', 'pictures', 'pie', 'piece', 'pieces', 'piercing', 'pies', 'pig', 'pile', 'piled', 'pillows', 'pinball', 'pineapple', 'pink', 'pint', 'piping', 'pissed', 'pistachio', 'pit', 'pita', 'pitcher', 'pittsburgh', 'pizza', 'pizzas', 'pizzeria', 'placed', 'places', 'placing', 'plain', 'plan', 'plane', 'planet', 'planned', 'planning', 'plans', 'plant', 'plants', 'plastic', 'plate', 'plates', 'platinum', 'platter', 'play', 'played', 'player', 'players', 'playground', 'playing', 'plays', 'plaza', 'pleasant', 'pleasantly', 'please', 'pleased', 'pleasing', 'pleasure', 'plentiful', 'plenty', 'plumber', 'plumbing', 'plus', 'pm', 'po', 'poached', 'pocket', 'point', 'pointed', 'points', 'poisoning', 'poke', 'poker', 'police', 'policies', 'policy', 'polish', 'polished', 'polite', 'politely', 'pollo', 'pomegranate', 'pong', 'pool', 'pools', 'poor', 'poorly', 'pop', 'popcorn', 'popped', 'popping', 'pops', 'popular', 'pork', 'port', 'portion', 'portions', 'portuguese', 'position', 'positive', 'positives', 'possible', 'possibly', 'post', 'posted', 'posting', 'pot', 'potato', 'potatoes', 'potential', 'potstickers', 'pound', 'pounds', 'pour', 'poured', 'poutine', 'powder', 'power', 'ppl', 'pr', 'practically', 'practice', 'practices', 'pre', 'prefer', 'preference', 'preferred', 'pregnant', 'premium', 'prep', 'preparation', 'prepare', 'prepared', 'preparing', 'prescription', 'presence', 'present', 'presentation', 'presented', 'press', 'pressed', 'pressure', 'pressured', 'pretentious', 'pretty', 'pretzel', 'pretzels', 'prevent', 'previous', 'previously', 'price', 'priced', 'prices', 'pricey', 'pricier', 'pricing', 'pricy', 'pride', 'primarily', 'primary', 'prime', 'print', 'printed', 'prior', 'priority', 'privacy', 'private', 'prix', 'pro', 'probably', 'problem', 'problems', 'procedure', 'procedures', 'proceeded', 'process', 'processed', 'produce', 'product', 'production', 'products', 'professional', 'professionalism', 'professionally', 'professionals', 'profit', 'program', 'progress', 'project', 'promise', 'promised', 'promotion', 'prompt', 'promptly', 'proof', 'proper', 'properly', 'properties', 'property', 'props', 'pros', 'prosciutto', 'protein', 'proud', 'provide', 'provided', 'provider', 'provides', 'providing', 'proximity', 'ps', 'pub', 'public', 'puck', 'pudding', 'puffs', 'pull', 'pulled', 'pulling', 'pump', 'pumpkin', 'punch', 'pup', 'puppies', 'puppy', 'purchase', 'purchased', 'purchases', 'purchasing', 'pure', 'purple', 'purpose', 'purse', 'push', 'pushed', 'pushing', 'pushy', 'put', 'puts', 'putting', 'qu', 'quaint', 'quality', 'quantity', 'quarter', 'que', 'queen', 'quesadilla', 'quesadillas', 'queso', 'question', 'questioned', 'questions', 'qui', 'quiche', 'quick', 'quicker', 'quickly', 'quiet', 'quinoa', 'quit', 'quite', 'quote', 'quoted', 'quotes', 'rabbit', 'race', 'rachel', 'rack', 'radio', 'rail', 'rain', 'rainbow', 'raise', 'raised', 'ramen', 'ran', 'ranch', 'random', 'randomly', 'rang', 'range', 'ranging', 'rare', 'rarely', 'raspberry', 'rate', 'rated', 'rates', 'rather', 'rating', 'ratings', 'ratio', 'rave', 'raved', 'raving', 'ravioli', 'raw', 'ray', 'rays', 'rd', 'reach', 'reached', 'reaction', 'read', 'reading', 'reads', 'ready', 'real', 'reality', 'realize', 'realized', 'rear', 'reason', 'reasonable', 'reasonably', 'reasons', 'recall', 'receipt', 'receive', 'received', 'receiving', 'recent', 'recently', 'reception', 'receptionist', 'recipe', 'recipes', 'recognize', 'recommendation', 'recommendations', 'recommended', 'recommending', 'record', 'records', 'red', 'refer', 'referred', 'refill', 'refilled', 'refills', 'refreshing', 'refried', 'refrigerator', 'refund', 'refunded', 'refuse', 'refused', 'regarding', 'regardless', 'regards', 'register', 'regret', 'regular', 'regularly', 'regulars', 'reheated', 'related', 'relationship', 'relatively', 'relax', 'relaxed', 'relaxing', 'reliable', 'relief', 'relleno', 'remaining', 'remember', 'remembered', 'remembers', 'remind', 'reminded', 'reminds', 'remodel', 'remodeled', 'removal', 'remove', 'removed', 'removing', 'renovated', 'rent', 'rental', 'rented', 'renting', 'rep', 'repair', 'repaired', 'repairs', 'repeat', 'repeated', 'repeatedly', 'replace', 'replaced', 'replacement', 'replacing', 'replied', 'reply', 'report', 'representative', 'reputation', 'request', 'requested', 'requests', 'require', 'required', 'requires', 'reschedule', 'rescue', 'research', 'reservation', 'reservations', 'reserve', 'reserved', 'resident', 'residents', 'resist', 'resolve', 'resolved', 'resort', 'respect', 'respectful', 'respond', 'responded', 'response', 'responsibility', 'responsible', 'responsive', 'rest', 'restaurants', 'resto', 'restrictions', 'restroom', 'restrooms', 'result', 'results', 'retail', 'retro', 'return', 'returned', 'returning', 'returns', 'reuben', 'review', 'reviewed', 'reviewer', 'reviewers', 'reviewing', 'reviews', 'rewards', 'rib', 'ribeye', 'ribs', 'rice', 'rich', 'rick', 'ricotta', 'rid', 'ride', 'rides', 'ridiculous', 'ridiculously', 'riding', 'right', 'ring', 'rings', 'rio', 'rip', 'ripped', 'risk', 'risotto', 'river', 'road', 'roast', 'roasted', 'robert', 'rock', 'rocks', 'roll', 'rolled', 'rolling', 'rolls', 'romantic', 'roof', 'rooftop', 'room', 'rooms', 'root', 'roots', 'rose', 'rosemary', 'rotation', 'roti', 'rough', 'roughly', 'round', 'rounds', 'route', 'routine', 'row', 'rows', 'roy', 'royal', 'rub', 'rubber', 'rubbery', 'rude', 'rudely', 'ruin', 'ruined', 'rule', 'rules', 'rum', 'run', 'runner', 'running', 'runny', 'runs', 'rush', 'rushed', 'rushing', 'russian', 'rustic', 'ryan', 'rye', 'sad', 'sadly', 'safe', 'safety', 'safeway', 'said', 'sake', 'salad', 'salads', 'sale', 'sales', 'salesman', 'salmon', 'salon', 'salons', 'salsa', 'salsas', 'salt', 'salted', 'salty', 'sam', 'samba', 'samosas', 'sample', 'sampled', 'sampler', 'samples', 'sampling', 'san', 'sand', 'sandwich', 'sandwiches', 'sangria', 'sans', 'santa', 'sarah', 'sashimi', 'sat', 'satay', 'satisfaction', 'satisfied', 'satisfy', 'satisfying', 'saturday', 'saturdays', 'sauce', 'sauces', 'sauna', 'sausage', 'sausages', 'saut', 'sauteed', 'save', 'saved', 'saving', 'savory', 'saw', 'say', 'saying', 'says', 'scale', 'scallop', 'scallops', 'scam', 'scarborough', 'scared', 'scary', 'scene', 'schedule', 'scheduled', 'scheduling', 'school', 'science', 'scoop', 'scoops', 'score', 'scott', 'scottsdale', 'scramble', 'scrambled', 'scratch', 'screaming', 'screen', 'screens', 'screw', 'screwed', 'scrub', 'scrumptious', 'se', 'sea', 'seafood', 'search', 'searched', 'searching', 'seared', 'season', 'seasonal', 'seasoned', 'seasoning', 'seat', 'seated', 'seating', 'seats', 'seaweed', 'second', 'secondly', 'seconds', 'secret', 'section', 'sections', 'secure', 'security', 'see', 'seed', 'seeds', 'seeing', 'seek', 'seeking', 'seem', 'seemed', 'seemingly', 'seems', 'seen', 'sees', 'select', 'selected', 'selection', 'selections', 'self', 'sell', 'selling', 'sells', 'semi', 'send', 'sending', 'sense', 'sensitive', 'sent', 'separate', 'separated', 'separately', 'september', 'series', 'serious', 'seriously', 'serve', 'served', 'server', 'servers', 'serves', 'serviced', 'services', 'serving', 'servings', 'sesame', 'session', 'sessions', 'set', 'sets', 'setting', 'settle', 'settled', 'setup', 'seven', 'several', 'severely', 'sexy', 'shack', 'shade', 'shady', 'shake', 'shakes', 'shall', 'shame', 'shampoo', 'shape', 'shaped', 'share', 'shared', 'sharing', 'sharp', 'shaved', 'shawarma', 'sheet', 'sheets', 'shelf', 'shell', 'shellac', 'shells', 'shelves', 'shift', 'shine', 'ship', 'shipped', 'shipping', 'shirt', 'shirts', 'shit', 'shitty', 'shock', 'shocked', 'shoe', 'shoes', 'shoot', 'shooting', 'shop', 'shopped', 'shopping', 'shops', 'short', 'shorter', 'shortly', 'shot', 'shots', 'shoulder', 'shoulders', 'shout', 'show', 'showed', 'shower', 'showers', 'showing', 'shown', 'shows', 'shredded', 'shrimp', 'shrimps', 'shut', 'shuttle', 'shy', 'si', 'sick', 'side', 'sides', 'sigh', 'sight', 'sign', 'signage', 'signature', 'signed', 'significant', 'significantly', 'signing', 'signs', 'silly', 'silver', 'silverware', 'similar', 'simple', 'simply', 'sin', 'since', 'sincerely', 'sing', 'singing', 'single', 'sink', 'sip', 'sirloin', 'sister', 'sit', 'site', 'sits', 'sitting', 'situation', 'six', 'size', 'sized', 'sizes', 'skeptical', 'sketchy', 'skewers', 'skill', 'skilled', 'skillet', 'skills', 'skimp', 'skimpy', 'skin', 'skinny', 'skip', 'skipped', 'skirt', 'sky', 'slammed', 'slaw', 'sleep', 'sleeping', 'slice', 'sliced', 'slices', 'slide', 'sliders', 'slight', 'slightly', 'sloppy', 'slot', 'slots', 'slow', 'slower', 'slowly', 'slut', 'small', 'smaller', 'smart', 'smell', 'smelled', 'smells', 'smile', 'smiled', 'smiles', 'smiling', 'smoke', 'smoked', 'smokey', 'smoking', 'smoky', 'smooth', 'smoothie', 'smoothies', 'smoothly', 'smothered', 'snack', 'snacks', 'snob', 'snow', 'soak', 'soaked', 'soap', 'social', 'socks', 'soda', 'sodas', 'sofa', 'soft', 'soggy', 'sold', 'soleil', 'solely', 'solid', 'solution', 'somebody', 'somehow', 'someone', 'something', 'sometime', 'sometimes', 'somewhat', 'somewhere', 'son', 'song', 'songs', 'sons', 'sont', 'soo', 'soon', 'sooner', 'sooo', 'soooo', 'sooooo', 'sorbet', 'sore', 'sorry', 'sort', 'sorts', 'soul', 'sound', 'sounded', 'sounds', 'soup', 'soups', 'sour', 'source', 'sourdough', 'south', 'southern', 'southwest', 'soy', 'spa', 'space', 'spaces', 'spacious', 'spaghetti', 'spanish', 'spare', 'sparkling', 'speak', 'speakers', 'speaking', 'speaks', 'special', 'specialist', 'specially', 'specials', 'specialty', 'specific', 'specifically', 'spectacular', 'speed', 'speedy', 'spend', 'spending', 'spent', 'spice', 'spiced', 'spices', 'spiciness', 'spicy', 'spilled', 'spin', 'spinach', 'spit', 'split', 'splurge', 'spoiled', 'spoke', 'spoken', 'spoon', 'sport', 'sports', 'spot', 'spotless', 'spots', 'spray', 'spread', 'spring', 'sprinkled', 'sprouts', 'square', 'squash', 'squeeze', 'squeezed', 'squid', 'sriracha', 'st', 'stack', 'stadium', 'staffed', 'staffs', 'stage', 'stains', 'stairs', 'stale', 'stand', 'standard', 'standards', 'standing', 'stands', 'staple', 'staples', 'star', 'starbucks', 'stared', 'staring', 'stars', 'start', 'started', 'starter', 'starters', 'starting', 'starts', 'starving', 'state', 'stated', 'statement', 'states', 'stating', 'station', 'stations', 'status', 'stay', 'stayed', 'staying', 'stays', 'steak', 'steakhouse', 'steaks', 'steal', 'steam', 'steamed', 'steel', 'steep', 'steer', 'stellar', 'step', 'stepped', 'steps', 'steve', 'stew', 'stick', 'stickers', 'sticking', 'sticks', 'sticky', 'still', 'stir', 'stock', 'stocked', 'stole', 'stolen', 'stomach', 'stone', 'stood', 'stools', 'stop', 'stopped', 'stopping', 'stops', 'storage', 'store', 'stores', 'stories', 'story', 'straight', 'strange', 'strangers', 'straw', 'strawberries', 'strawberry', 'street', 'streets', 'strength', 'stress', 'stressful', 'stretch', 'strike', 'string', 'strip', 'strips', 'strong', 'stronger', 'strongly', 'stuck', 'student', 'students', 'studio', 'study', 'stuff', 'stuffed', 'stumbled', 'stunning', 'stupid', 'style', 'styles', 'stylist', 'stylists', 'sub', 'subpar', 'subs', 'substitute', 'subtle', 'subway', 'success', 'successful', 'succulent', 'suck', 'sucked', 'sucker', 'sucks', 'suddenly', 'sugar', 'suggest', 'suggested', 'suggestion', 'suggestions', 'suit', 'suite', 'suites', 'suits', 'sum', 'summary', 'summer', 'summerlin', 'sun', 'sundae', 'sunday', 'sundays', 'sunny', 'sunset', 'super', 'superb', 'superior', 'supermarket', 'supervisor', 'supper', 'supplies', 'supply', 'support', 'supporting', 'suppose', 'supposed', 'supposedly', 'supreme', 'sur', 'sure', 'surely', 'surf', 'surface', 'surgery', 'surprise', 'surprised', 'surprising', 'surprisingly', 'surrender', 'surrounded', 'surrounding', 'sushi', 'suspect', 'suv', 'swear', 'sweat', 'sweet', 'sweeter', 'sweetness', 'sweets', 'swimming', 'swing', 'swiss', 'switch', 'switched', 'syrup', 'system', 'tab', 'table', 'tables', 'tacky', 'taco', 'tacos', 'tad', 'tag', 'tail', 'tait', 'taiwanese', 'take', 'taken', 'takeout', 'takes', 'taking', 'talent', 'talented', 'talk', 'talked', 'talking', 'tall', 'tan', 'tandoori', 'tangy', 'tank', 'tanning', 'tao', 'tap', 'tapas', 'tape', 'tapioca', 'target', 'taro', 'tart', 'tartar', 'tartare', 'task', 'taste', 'tasted', 'tasteful', 'tasteless', 'tastes', 'tasting', 'tasty', 'tater', 'tattoo', 'taught', 'tax', 'taxes', 'taxi', 'taylor', 'te', 'tea', 'teach', 'teacher', 'teachers', 'team', 'tear', 'tears', 'teas', 'tech', 'technician', 'technicians', 'technique', 'technology', 'techs', 'teeth', 'tell', 'telling', 'tells', 'temp', 'tempe', 'temperature', 'tempura', 'ten', 'tend', 'tender', 'tenderloin', 'tenders', 'tends', 'tequila', 'teriyaki', 'term', 'terminal', 'terms', 'terrible', 'terribly', 'terrific', 'test', 'tests', 'tex', 'texas', 'text', 'texture', 'textures', 'th', 'thai', 'thank', 'thanked', 'thankful', 'thankfully', 'thanks', 'thanksgiving', 'thats', 'theater', 'theaters', 'theatre', 'theme', 'themed', 'therapist', 'therapists', 'therapy', 'therefore', 'theres', 'thick', 'thicker', 'thin', 'thing', 'things', 'think', 'thinking', 'thinks', 'thinly', 'third', 'tho', 'thorough', 'thoroughly', 'though', 'thought', 'thoughtful', 'thoughts', 'thousand', 'thousands', 'threading', 'three', 'threw', 'thrilled', 'throughout', 'throw', 'throwing', 'thrown', 'thru', 'thumbs', 'thursday', 'thus', 'ticket', 'tickets', 'tight', 'tikka', 'til', 'tile', 'till', 'tim', 'timely', 'timer', 'times', 'timing', 'tint', 'tiny', 'tip', 'tipped', 'tips', 'tiramisu', 'tire', 'tired', 'tires', 'tissue', 'toast', 'toasted', 'today', 'toddler', 'toe', 'toes', 'tofu', 'together', 'toilet', 'told', 'tom', 'tomato', 'tomatoes', 'tomorrow', 'ton', 'tone', 'tongue', 'tonight', 'tons', 'tony', 'took', 'tools', 'tooth', 'top', 'topped', 'topping', 'toppings', 'tops', 'torn', 'toronto', 'tortilla', 'tortillas', 'tossed', 'total', 'totally', 'tots', 'touch', 'touched', 'touches', 'touching', 'tough', 'tour', 'tourist', 'tourists', 'tout', 'tow', 'toward', 'towards', 'towed', 'towel', 'towels', 'tower', 'town', 'toyota', 'toys', 'tr', 'track', 'trade', 'trader', 'traditional', 'traffic', 'trail', 'train', 'trained', 'trainer', 'training', 'transaction', 'transfer', 'transferred', 'trash', 'travel', 'traveling', 'tray', 'treasure', 'treat', 'treated', 'treating', 'treatment', 'treatments', 'treats', 'tree', 'trees', 'trek', 'tremendous', 'trendy', 'tres', 'trick', 'tricks', 'tricky', 'tried', 'tries', 'trim', 'trimmed', 'trio', 'trip', 'triple', 'trips', 'trouble', 'trout', 'truck', 'trucks', 'true', 'truffle', 'truly', 'trust', 'trusted', 'trustworthy', 'truth', 'trying', 'tub', 'tucked', 'tuesday', 'tuesdays', 'tummy', 'tuna', 'tune', 'turf', 'turkey', 'turn', 'turned', 'turning', 'turns', 'tv', 'tvs', 'twenty', 'twice', 'twist', 'two', 'tyler', 'type', 'types', 'typical', 'typically', 'tzatziki', 'uber', 'udon', 'ugh', 'ugly', 'uh', 'ultimate', 'ultimately', 'ultra', 'um', 'un', 'unable', 'unacceptable', 'unbelievable', 'unbelievably', 'uncle', 'uncomfortable', 'undercooked', 'underground', 'underneath', 'understaffed', 'understand', 'understandable', 'understanding', 'understood', 'underwhelmed', 'underwhelming', 'une', 'uneven', 'unexpected', 'unfortunate', 'unfortunately', 'unfriendly', 'unhappy', 'unique', 'unit', 'units', 'university', 'unless', 'unlike', 'unlimited', 'unnecessary', 'unorganized', 'unpleasant', 'unprofessional', 'unusual', 'upbeat', 'update', 'updated', 'updates', 'updating', 'upfront', 'upgrade', 'upgraded', 'upon', 'upper', 'ups', 'upscale', 'upset', 'upside', 'upstairs', 'uptown', 'ur', 'urban', 'urgent', 'use', 'used', 'useless', 'uses', 'using', 'usual', 'usually', 'utensils', 'vacation', 'vacuum', 'valentine', 'valet', 'valley', 'value', 'van', 'vanilla', 'varied', 'varieties', 'variety', 'various', 'vast', 'veal', 'veg', 'vegan', 'vegans', 'vegas', 'vegetable', 'vegetables', 'vegetarian', 'vegetarians', 'veggie', 'veggies', 'vehicle', 'vehicles', 'velvet', 'vendor', 'vendors', 'venetian', 'venture', 'venue', 'verde', 'vermicelli', 'version', 'versus', 'vet', 'vets', 'via', 'vibe', 'vibes', 'video', 'vietnamese', 'view', 'views', 'village', 'vinaigrette', 'vinegar', 'vintage', 'vip', 'visible', 'vision', 'visit', 'visited', 'visiting', 'visitors', 'visits', 'vodka', 'voice', 'voicemail', 'volume', 'voucher', 'vous', 'vraiment', 'vs', 'waffle', 'waffles', 'wagyu', 'wait', 'waited', 'waiter', 'waiters', 'waiting', 'waitress', 'waitresses', 'waits', 'waitstaff', 'wake', 'walgreens', 'walk', 'walked', 'walking', 'walks', 'wall', 'wallet', 'walls', 'walmart', 'walnut', 'wandering', 'wanna', 'want', 'wanted', 'wanting', 'wants', 'warehouse', 'warm', 'warmed', 'warmer', 'warmly', 'warn', 'warned', 'warning', 'warranty', 'wasabi', 'wash', 'washed', 'washer', 'washing', 'washroom', 'wasnt', 'waste', 'wasted', 'wasting', 'watch', 'watched', 'watching', 'water', 'watered', 'watering', 'watermelon', 'waters', 'watery', 'wave', 'wax', 'waxing', 'way', 'ways', 'weak', 'wear', 'wearing', 'weather', 'web', 'website', 'wedding', 'wedge', 'wednesday', 'week', 'weekday', 'weekdays', 'weekend', 'weekends', 'weekly', 'weeks', 'weight', 'weird', 'welcome', 'welcomed', 'welcoming', 'wendy', 'west', 'western', 'wet', 'whatever', 'whatsoever', 'wheat', 'wheel', 'wheels', 'whenever', 'whether', 'whim', 'whip', 'whipped', 'whiskey', 'white', 'whoever', 'whole', 'whose', 'wi', 'wicked', 'wide', 'wife', 'wifi', 'wild', 'willing', 'win', 'window', 'windows', 'windshield', 'wine', 'wines', 'wing', 'wings', 'winner', 'winning', 'winter', 'wipe', 'wiped', 'wise', 'wish', 'wished', 'within', 'without', 'witnessed', 'wok', 'woke', 'wolfgang', 'woman', 'women', 'wonder', 'wonderful', 'wonderfully', 'wondering', 'wont', 'wonton', 'wontons', 'woo', 'wood', 'wooden', 'word', 'words', 'work', 'worked', 'worker', 'workers', 'working', 'workout', 'works', 'world', 'worn', 'worried', 'worry', 'worse', 'worst', 'worth', 'worthy', 'wow', 'wowed', 'wrap', 'wrapped', 'wraps', 'write', 'writing', 'written', 'wrong', 'wrote', 'wtf', 'www', 'wynn', 'xs', 'ya', 'yard', 'yardbird', 'yay', 'yea', 'yeah', 'year', 'years', 'yell', 'yelled', 'yelling', 'yellow', 'yellowtail', 'yelp', 'yelper', 'yelpers', 'yep', 'yes', 'yesterday', 'yet', 'yo', 'yoga', 'yogurt', 'yolk', 'yonge', 'york', 'young', 'younger', 'yr', 'yrs', 'yuck', 'yum', 'yummy', 'zero', 'zone', 'zoo', 'zucchini']\n"
     ]
    }
   ],
   "source": [
    "# Take a look at the words in the vocabulary\n",
    "vocab = vectorizer.get_feature_names()\n",
    "print(vocab)"
   ]
  },
  {
   "cell_type": "markdown",
   "metadata": {},
   "source": [
    "# Customer segmentation"
   ]
  },
  {
   "cell_type": "code",
   "execution_count": 14,
   "metadata": {
    "ExecuteTime": {
     "end_time": "2019-11-26T19:41:19.265040Z",
     "start_time": "2019-11-26T19:40:51.662032Z"
    }
   },
   "outputs": [],
   "source": [
    "# train_data_features has tfidf featues\n",
    "# Add other data to each review (stars, useful, ...)\n",
    "# GroupBy User and avg across each review\n",
    "# Cluster users using K-means\n",
    "# Interpret user clusters\n",
    "\n",
    "\n",
    "# Add non-text data back to feature matrix\n",
    "review_features = ['cool', 'funny', 'stars', 'useful', 'user_id']\n",
    "all_features_labels = vectorizer.get_feature_names() + review_features\n",
    "all_features = np.append(train_data_features, dfreviews[review_features].to_numpy(), 1)\n"
   ]
  },
  {
   "cell_type": "code",
   "execution_count": null,
   "metadata": {
    "ExecuteTime": {
     "start_time": "2019-11-26T19:40:16.788Z"
    }
   },
   "outputs": [],
   "source": [
    "# GroupBy User and avg across each review\n",
    "all_features_df = pd.DataFrame(data=all_features, columns=all_features_labels)\n",
    "all_features_df_tmp = all_features_df.iloc[:,:-1].astype('float64')\n",
    "all_features_df_tmp['user_id'] = all_features_df['user_id']\n",
    "all_features_df = all_features_df_tmp\n",
    "del all_features_df_tmp\n",
    "all_features_User = all_features_df.groupby(by='user_id').mean()"
   ]
  },
  {
   "cell_type": "code",
   "execution_count": null,
   "metadata": {
    "ExecuteTime": {
     "start_time": "2019-11-26T19:40:16.791Z"
    }
   },
   "outputs": [],
   "source": [
    "all_features_User.head()"
   ]
  },
  {
   "cell_type": "code",
   "execution_count": null,
   "metadata": {
    "ExecuteTime": {
     "start_time": "2019-11-26T19:40:16.795Z"
    }
   },
   "outputs": [],
   "source": [
    "# Cluster users using K-means\n",
    "from sklearn.cluster import KMeans\n",
    "\n",
    "max_clusters = 10\n",
    "kmeans_cost = []\n",
    "for num_clusters in range(1,max_clusters):\n",
    "    k_means_clutering = KMeans(n_clusters=num_clusters)\n",
    "    k_means_clutering.fit(all_features_User)\n",
    "    kmeans_cost.append(k_means_clutering.inertia_)\n",
    "    "
   ]
  },
  {
   "cell_type": "code",
   "execution_count": null,
   "metadata": {
    "ExecuteTime": {
     "start_time": "2019-11-26T19:40:16.799Z"
    }
   },
   "outputs": [],
   "source": [
    "# Determine the best value of K to use (the number of clusters)\n",
    "# plot the cost against K values \n",
    "plt.plot(range(1, max_clusters), kmeans_cost, color ='g', linewidth ='3') \n",
    "plt.title('4 Clusters of Users:', fontsize=20)\n",
    "plt.xlabel(\"Value of K\") \n",
    "plt.ylabel(\"Sqaured Error (Cost)\") \n",
    "plt.show() # clear the plot "
   ]
  },
  {
   "cell_type": "code",
   "execution_count": null,
   "metadata": {
    "ExecuteTime": {
     "start_time": "2019-11-26T19:40:16.803Z"
    }
   },
   "outputs": [],
   "source": [
    "# Cluster users using K-means\n",
    "# Interpret user clusters\n",
    "\n",
    "num_clusters = 4\n",
    "k_means_clutering = KMeans(n_clusters=num_clusters)\n",
    "k_means_clutering.fit(all_features_User)"
   ]
  },
  {
   "cell_type": "code",
   "execution_count": null,
   "metadata": {
    "ExecuteTime": {
     "start_time": "2019-11-26T19:40:16.807Z"
    }
   },
   "outputs": [],
   "source": [
    "user_cluster_centers_df = pd.DataFrame(data=k_means_clutering.cluster_centers_, columns=all_features_User.columns)\n",
    "user_cluster_centers_df.head()"
   ]
  },
  {
   "cell_type": "code",
   "execution_count": null,
   "metadata": {
    "ExecuteTime": {
     "start_time": "2019-11-26T19:40:16.810Z"
    }
   },
   "outputs": [],
   "source": [
    "user_cluster_centers_df.iloc[0].to_dict()"
   ]
  },
  {
   "cell_type": "code",
   "execution_count": null,
   "metadata": {
    "ExecuteTime": {
     "start_time": "2019-11-26T19:40:16.814Z"
    }
   },
   "outputs": [],
   "source": [
    "from wordcloud import WordCloud\n",
    "\n",
    "for cluster in range(len(user_cluster_centers_df)):\n",
    "    series = user_cluster_centers_df.iloc[cluster,:-4] #Use relevant row, drop non-word cols\n",
    "    wc_dict = series.to_dict()\n",
    "    wordcloud = WordCloud().generate_from_frequencies(wc_dict)\n",
    "    plt.imshow(wordcloud, interpolation='bilinear')\n",
    "    plt.title('Cluster: {}'.format(cluster), fontsize=20)\n",
    "    plt.axis('off')\n",
    "    plt.show()\n",
    "    "
   ]
  },
  {
   "cell_type": "markdown",
   "metadata": {
    "ExecuteTime": {
     "end_time": "2019-11-25T22:57:34.865818Z",
     "start_time": "2019-11-25T22:57:34.823127Z"
    }
   },
   "source": [
    "# Customer segmentation w/ PCA & Scaling before clustering"
   ]
  },
  {
   "cell_type": "code",
   "execution_count": null,
   "metadata": {
    "ExecuteTime": {
     "start_time": "2019-11-26T19:40:16.817Z"
    }
   },
   "outputs": [],
   "source": [
    "# Min Max Scaler\n",
    "from sklearn.preprocessing import MinMaxScaler\n",
    "scaler = MinMaxScaler()\n",
    "\n",
    "# PCA all_features_User\n",
    "from sklearn.decomposition import PCA\n",
    "pca = PCA()\n",
    "pca.fit(scaler.fit_transform(all_features_User))"
   ]
  },
  {
   "cell_type": "code",
   "execution_count": null,
   "metadata": {
    "ExecuteTime": {
     "start_time": "2019-11-26T19:40:16.822Z"
    }
   },
   "outputs": [],
   "source": [
    "plt.bar(x=range(len(pca.explained_variance_ratio_)), height=pca.explained_variance_ratio_, log=True)\n",
    "plt.xlim((0,500))"
   ]
  },
  {
   "cell_type": "code",
   "execution_count": null,
   "metadata": {
    "ExecuteTime": {
     "start_time": "2019-11-26T19:40:16.825Z"
    }
   },
   "outputs": [],
   "source": [
    "pca = PCA(n_components=200)\n",
    "pca_user_features = pca.fit_transform(all_features_User)"
   ]
  },
  {
   "cell_type": "code",
   "execution_count": null,
   "metadata": {
    "ExecuteTime": {
     "start_time": "2019-11-26T19:40:16.829Z"
    }
   },
   "outputs": [],
   "source": [
    "# Cluster users using K-means\n",
    "from sklearn.cluster import KMeans\n",
    "\n",
    "max_clusters = 10\n",
    "kmeans_cost = []\n",
    "for num_clusters in range(1,max_clusters):\n",
    "    k_means_clutering = KMeans(n_clusters=num_clusters)\n",
    "    k_means_clutering.fit(pca_user_features)\n",
    "    kmeans_cost.append(k_means_clutering.inertia_)\n",
    "    "
   ]
  },
  {
   "cell_type": "code",
   "execution_count": null,
   "metadata": {
    "ExecuteTime": {
     "start_time": "2019-11-26T19:40:16.832Z"
    }
   },
   "outputs": [],
   "source": [
    "# Determine the best value of K to use (the number of clusters)\n",
    "# plot the cost against K values \n",
    "plt.plot(range(1, max_clusters), kmeans_cost, color ='g', linewidth ='3') \n",
    "plt.title('4 Clusters of Users:', fontsize=20)\n",
    "plt.xlabel(\"Value of K\") \n",
    "plt.ylabel(\"Sqaured Error (Cost)\") \n",
    "plt.show() # clear the plot "
   ]
  },
  {
   "cell_type": "code",
   "execution_count": null,
   "metadata": {
    "ExecuteTime": {
     "start_time": "2019-11-26T19:40:16.835Z"
    }
   },
   "outputs": [],
   "source": [
    "# Cluster users using K-means\n",
    "# Interpret user clusters\n",
    "\n",
    "num_clusters = 4\n",
    "k_means_clutering = KMeans(n_clusters=num_clusters)\n",
    "k_means_clutering.fit(pca_user_features)"
   ]
  },
  {
   "cell_type": "code",
   "execution_count": null,
   "metadata": {
    "ExecuteTime": {
     "start_time": "2019-11-26T19:40:16.840Z"
    }
   },
   "outputs": [],
   "source": [
    "# Find the center of each cluster and report \n",
    "\n",
    "pca_user_cluster_centers_df = all_features_User.copy()\n",
    "pca_user_cluster_centers_df['cluster'] = k_means_clutering.labels_ #Add cluster label\n",
    "pca_user_cluster_centers_df = pca_user_cluster_centers_df.groupby(by='cluster').mean()\n",
    "pca_user_cluster_centers_df.head()"
   ]
  },
  {
   "cell_type": "code",
   "execution_count": null,
   "metadata": {
    "ExecuteTime": {
     "start_time": "2019-11-26T19:40:16.843Z"
    }
   },
   "outputs": [],
   "source": [
    "from wordcloud import WordCloud\n",
    "\n",
    "for cluster in range(len(pca_user_cluster_centers_df)):\n",
    "    series = pca_user_cluster_centers_df.iloc[cluster,:-4] #Use relevant row, drop non-word cols\n",
    "    wc_dict = series.to_dict()\n",
    "    wordcloud = WordCloud().generate_from_frequencies(wc_dict)\n",
    "    plt.imshow(wordcloud, interpolation='bilinear')\n",
    "    plt.title('Cluster: {}'.format(cluster), fontsize=20)\n",
    "    plt.axis('off')\n",
    "    plt.show()\n",
    "    "
   ]
  },
  {
   "cell_type": "code",
   "execution_count": null,
   "metadata": {},
   "outputs": [],
   "source": []
  }
 ],
 "metadata": {
  "kernelspec": {
   "display_name": "Python 3",
   "language": "python",
   "name": "python3"
  },
  "language_info": {
   "codemirror_mode": {
    "name": "ipython",
    "version": 3
   },
   "file_extension": ".py",
   "mimetype": "text/x-python",
   "name": "python",
   "nbconvert_exporter": "python",
   "pygments_lexer": "ipython3",
   "version": "3.7.3"
  },
  "toc": {
   "base_numbering": 1,
   "nav_menu": {},
   "number_sections": true,
   "sideBar": true,
   "skip_h1_title": false,
   "title_cell": "Table of Contents",
   "title_sidebar": "Contents",
   "toc_cell": true,
   "toc_position": {},
   "toc_section_display": true,
   "toc_window_display": false
  }
 },
 "nbformat": 4,
 "nbformat_minor": 2
}
