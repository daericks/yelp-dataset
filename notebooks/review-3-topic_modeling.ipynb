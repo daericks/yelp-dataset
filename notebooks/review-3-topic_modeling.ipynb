{
 "cells": [
  {
   "cell_type": "markdown",
   "metadata": {
    "toc": true
   },
   "source": [
    "<h1>Table of Contents<span class=\"tocSkip\"></span></h1>\n",
    "<div class=\"toc\"><ul class=\"toc-item\"><li><span><a href=\"#Acknowledgements\" data-toc-modified-id=\"Acknowledgements-1\"><span class=\"toc-item-num\">1&nbsp;&nbsp;</span>Acknowledgements</a></span></li><li><span><a href=\"#Words-indicative-of-(5-star)-and-(1-star)-reviews\" data-toc-modified-id=\"Words-indicative-of-(5-star)-and-(1-star)-reviews-2\"><span class=\"toc-item-num\">2&nbsp;&nbsp;</span>Words indicative of (5-star) and (1-star) reviews</a></span><ul class=\"toc-item\"><li><span><a href=\"#Words-indicative-of-5-star-reviews\" data-toc-modified-id=\"Words-indicative-of-5-star-reviews-2.1\"><span class=\"toc-item-num\">2.1&nbsp;&nbsp;</span>Words indicative of 5-star reviews</a></span></li><li><span><a href=\"#Words-indicative-of-1-star-reviews\" data-toc-modified-id=\"Words-indicative-of-1-star-reviews-2.2\"><span class=\"toc-item-num\">2.2&nbsp;&nbsp;</span>Words indicative of 1-star reviews</a></span></li></ul></li></ul></div>"
   ]
  },
  {
   "cell_type": "markdown",
   "metadata": {},
   "source": [
    "# Acknowledgements \n",
    "Thank you to \n",
    "https://medium.com/mlreview/topic-modeling-with-scikit-learn-e80d33668730"
   ]
  },
  {
   "cell_type": "markdown",
   "metadata": {},
   "source": [
    "# Words indicative of (5-star) and (1-star) reviews"
   ]
  },
  {
   "cell_type": "code",
   "execution_count": 1,
   "metadata": {
    "ExecuteTime": {
     "end_time": "2019-11-24T01:51:10.656560Z",
     "start_time": "2019-11-24T01:51:02.811819Z"
    }
   },
   "outputs": [
    {
     "name": "stderr",
     "output_type": "stream",
     "text": [
      "[nltk_data] Downloading package stopwords to\n",
      "[nltk_data]     /Users/daviderickson/nltk_data...\n",
      "[nltk_data]   Package stopwords is already up-to-date!\n"
     ]
    }
   ],
   "source": [
    "%matplotlib inline\n",
    "import pandas as pd\n",
    "import numpy as np\n",
    "import matplotlib.pyplot as plt\n",
    "\n",
    "import re\n",
    "\n",
    "import nltk\n",
    "nltk.download('stopwords')\n",
    "from nltk.corpus import stopwords # Import the stop word list\n"
   ]
  },
  {
   "cell_type": "code",
   "execution_count": 2,
   "metadata": {
    "ExecuteTime": {
     "end_time": "2019-11-24T01:51:12.876119Z",
     "start_time": "2019-11-24T01:51:10.733271Z"
    }
   },
   "outputs": [],
   "source": [
    "def load_reviews(size='small'): \n",
    "    if size == 'small':\n",
    "        filename = r'../../data/small-review.json'\n",
    "    elif size == 'intermediate':\n",
    "        filename = r'../../data/intermediate-review.json'\n",
    "    elif size == 'full':\n",
    "        filename = r'../../data/review.json'\n",
    "    new_list = []\n",
    "    for line in open(filename):\n",
    "       new_list.append(json.loads(line))\n",
    "    return pd.DataFrame.from_records(new_list)\n",
    "\n",
    "dfreviews = load_reviews(size='intermediate')"
   ]
  },
  {
   "cell_type": "code",
   "execution_count": 3,
   "metadata": {
    "ExecuteTime": {
     "end_time": "2019-11-24T01:51:12.888358Z",
     "start_time": "2019-11-24T01:51:12.878361Z"
    }
   },
   "outputs": [
    {
     "data": {
      "text/plain": [
       "'Total bill for this horrible service? Over $8Gs. These crooks actually had the nerve to charge us $69 for 3 pills. I checked online the pills can be had for 19 cents EACH! Avoid Hospital ERs at all costs.'"
      ]
     },
     "execution_count": 3,
     "metadata": {},
     "output_type": "execute_result"
    }
   ],
   "source": [
    "dfreviews['text'][0]"
   ]
  },
  {
   "cell_type": "code",
   "execution_count": 4,
   "metadata": {
    "ExecuteTime": {
     "end_time": "2019-11-24T01:51:19.217711Z",
     "start_time": "2019-11-24T01:51:12.893831Z"
    }
   },
   "outputs": [],
   "source": [
    "# For simplicity, drop anything that isn't a letter\n",
    "# Numbers and symbols may have interesting meaning and could be explore later\n",
    "\n",
    "def lettersOnly(string):\n",
    "    return re.sub(\"[^a-zA-Z]\", \" \", string) \n",
    "\n",
    "dfreviews['text'] = dfreviews['text'].apply(lettersOnly)\n"
   ]
  },
  {
   "cell_type": "code",
   "execution_count": 5,
   "metadata": {
    "ExecuteTime": {
     "end_time": "2019-11-24T01:51:19.232296Z",
     "start_time": "2019-11-24T01:51:19.221853Z"
    }
   },
   "outputs": [
    {
     "data": {
      "text/plain": [
       "'Total bill for this horrible service  Over   Gs  These crooks actually had the nerve to charge us     for   pills  I checked online the pills can be had for    cents EACH  Avoid Hospital ERs at all costs '"
      ]
     },
     "execution_count": 5,
     "metadata": {},
     "output_type": "execute_result"
    }
   ],
   "source": [
    "dfreviews['text'][0]"
   ]
  },
  {
   "cell_type": "code",
   "execution_count": 6,
   "metadata": {
    "ExecuteTime": {
     "end_time": "2019-11-24T01:51:19.255828Z",
     "start_time": "2019-11-24T01:51:19.239920Z"
    }
   },
   "outputs": [],
   "source": [
    "def review_to_words(string):\n",
    "    string = re.sub(\"[^a-zA-Z]\", \" \", string) # keep only letters. more complex model possible later\n",
    "    words =  string.lower().split() # make everything lowercase. split into words\n",
    "    stops = set(stopwords.words('english')) # create a fast lookup for stopwords\n",
    "    words = [w for w in words if not w in stops] # remove stopwords\n",
    "    return( \" \".join( words )) # recombine review and return\n",
    "    \n",
    "# dfreviews['text'] = dfreviews['text'].apply(review_to_words) # apply to reviews in dataframe\n"
   ]
  },
  {
   "cell_type": "code",
   "execution_count": 7,
   "metadata": {
    "ExecuteTime": {
     "end_time": "2019-11-24T01:51:42.837386Z",
     "start_time": "2019-11-24T01:51:19.298364Z"
    }
   },
   "outputs": [],
   "source": [
    "dfreviews['text'] = dfreviews['text'].apply(review_to_words)"
   ]
  },
  {
   "cell_type": "code",
   "execution_count": 8,
   "metadata": {
    "ExecuteTime": {
     "end_time": "2019-11-24T01:51:42.844809Z",
     "start_time": "2019-11-24T01:51:42.838857Z"
    }
   },
   "outputs": [
    {
     "data": {
      "text/plain": [
       "'total bill horrible service gs crooks actually nerve charge us pills checked online pills cents avoid hospital ers costs'"
      ]
     },
     "execution_count": 8,
     "metadata": {},
     "output_type": "execute_result"
    }
   ],
   "source": [
    "dfreviews['text'][0]"
   ]
  },
  {
   "cell_type": "code",
   "execution_count": 9,
   "metadata": {
    "ExecuteTime": {
     "end_time": "2019-11-24T01:51:47.677814Z",
     "start_time": "2019-11-24T01:51:42.847441Z"
    }
   },
   "outputs": [
    {
     "name": "stdout",
     "output_type": "stream",
     "text": [
      "Creating the TFIDF...\n",
      "\n"
     ]
    }
   ],
   "source": [
    "print(\"Creating the TFIDF...\\n\")\n",
    "from sklearn.feature_extraction.text import TfidfVectorizer\n",
    "\n",
    "no_features = 1000\n",
    "\n",
    "# Initialize the \"TfidfVectorizer\" object, which is scikit-learn's\n",
    "# term frequency, inverse document frequency (TFIDF) tool.  \n",
    "tfidf_vectorizer = TfidfVectorizer(max_df = 0.95, min_df=15, \\\n",
    "                             analyzer = \"word\",   \\\n",
    "                             tokenizer = None,    \\\n",
    "                             preprocessor = None, \\\n",
    "                             stop_words = None,   \\\n",
    "                             max_features = no_features) # 5000\n",
    "\n",
    "# fit_transform() does two functions: First, it fits the model\n",
    "# and learns the vocabulary; second, it transforms our training data\n",
    "# into feature vectors. The input to fit_transform should be a list of \n",
    "# strings.\n",
    "tfidf = tfidf_vectorizer.fit_transform(dfreviews['text'])\n",
    "\n",
    "# Numpy arrays are easy to work with, so convert the result to an \n",
    "# array\n",
    "tfidf = tfidf.toarray()\n",
    "\n",
    "tfidf_feature_names = tfidf_vectorizer.get_feature_names()"
   ]
  },
  {
   "cell_type": "code",
   "execution_count": 10,
   "metadata": {
    "ExecuteTime": {
     "end_time": "2019-11-24T01:51:52.386148Z",
     "start_time": "2019-11-24T01:51:47.679540Z"
    }
   },
   "outputs": [
    {
     "name": "stdout",
     "output_type": "stream",
     "text": [
      "Creating the bag of words for LDA...\n",
      "\n"
     ]
    }
   ],
   "source": [
    "print(\"Creating the bag of words for LDA...\\n\")\n",
    "from sklearn.feature_extraction.text import CountVectorizer\n",
    "\n",
    "# Initialize the \"CountVectorizer\" object, which is scikit-learn's\n",
    "# tf bag of words tool.  \n",
    "tf_vectorizer = CountVectorizer(max_df = 0.95, min_df=15, \\\n",
    "                             analyzer = \"word\",   \\\n",
    "                             tokenizer = None,    \\\n",
    "                             preprocessor = None, \\\n",
    "                             stop_words = None,   \\\n",
    "                             max_features = no_features) # 5000\n",
    "\n",
    "# fit_transform() does two functions: First, it fits the model\n",
    "# and learns the vocabulary; second, it transforms our training data\n",
    "# into feature vectors. The input to fit_transform should be a list of \n",
    "# strings.\n",
    "tf = tf_vectorizer.fit_transform(dfreviews['text'])\n",
    "\n",
    "# Numpy arrays are easy to work with, so convert the result to an \n",
    "# array\n",
    "tf = tf.toarray()\n",
    "\n",
    "tf_feature_names = tf_vectorizer.get_feature_names()"
   ]
  },
  {
   "cell_type": "code",
   "execution_count": 11,
   "metadata": {
    "ExecuteTime": {
     "end_time": "2019-11-24T01:51:52.392548Z",
     "start_time": "2019-11-24T01:51:52.387910Z"
    }
   },
   "outputs": [
    {
     "name": "stdout",
     "output_type": "stream",
     "text": [
      "(100000, 1000)\n",
      "(100000, 1000)\n"
     ]
    }
   ],
   "source": [
    "print(tfidf.shape)\n",
    "print(tf.shape)"
   ]
  },
  {
   "cell_type": "code",
   "execution_count": 12,
   "metadata": {
    "ExecuteTime": {
     "end_time": "2019-11-24T01:51:52.400908Z",
     "start_time": "2019-11-24T01:51:52.395657Z"
    }
   },
   "outputs": [
    {
     "name": "stdout",
     "output_type": "stream",
     "text": [
      "['able', 'absolutely', 'accommodating', 'across', 'actually', 'add', 'added', 'affordable', 'afternoon', 'ago', 'ahead', 'air', 'almost', 'alone', 'along', 'already', 'also', 'although', 'always', 'amazing', 'ambiance', 'amount', 'another', 'answer', 'anyone', 'anything', 'anyway', 'anywhere', 'apparently', 'appetizer', 'appetizers', 'apple', 'appointment', 'appreciate', 'area', 'around', 'arrived', 'asian', 'ask', 'asked', 'asking', 'ate', 'atmosphere', 'attention', 'attentive', 'attitude', 'authentic', 'available', 'average', 'avoid', 'away', 'awesome', 'awful', 'baby', 'back', 'bacon', 'bad', 'bag', 'baked', 'bar', 'bartender', 'based', 'basically', 'bathroom', 'bbq', 'beans', 'beautiful', 'bed', 'beef', 'beer', 'beers', 'behind', 'believe', 'best', 'better', 'beyond', 'big', 'bill', 'birthday', 'bit', 'bite', 'black', 'bland', 'blue', 'book', 'bottle', 'bottom', 'bought', 'bowl', 'box', 'boyfriend', 'bread', 'breakfast', 'bring', 'brisket', 'brought', 'brunch', 'buffet', 'building', 'bun', 'burger', 'burgers', 'burrito', 'business', 'busy', 'butter', 'buy', 'cafe', 'cake', 'cakes', 'call', 'called', 'came', 'cannot', 'car', 'card', 'care', 'case', 'cash', 'cashier', 'casino', 'center', 'certainly', 'chairs', 'chance', 'change', 'changed', 'charge', 'charged', 'charlotte', 'cheap', 'check', 'checked', 'checking', 'cheese', 'chef', 'chicken', 'chili', 'chinese', 'chips', 'chocolate', 'choice', 'choices', 'choose', 'chose', 'city', 'class', 'clean', 'cleaning', 'clearly', 'close', 'closed', 'club', 'coffee', 'cold', 'color', 'combo', 'come', 'comes', 'comfortable', 'coming', 'company', 'complaint', 'complete', 'completely', 'considering', 'convenient', 'cook', 'cooked', 'cool', 'corn', 'corner', 'cost', 'could', 'counter', 'couple', 'course', 'covered', 'crab', 'craving', 'crazy', 'cream', 'credit', 'crispy', 'crowd', 'crowded', 'crust', 'cup', 'curry', 'customer', 'customers', 'cut', 'cute', 'dark', 'date', 'daughter', 'day', 'days', 'de', 'deal', 'decent', 'decided', 'decor', 'deep', 'definitely', 'delicious', 'delivered', 'delivery', 'desk', 'despite', 'dessert', 'desserts', 'die', 'different', 'dining', 'dinner', 'dirty', 'disappointed', 'disappointing', 'dish', 'dishes', 'doctor', 'dog', 'dogs', 'dollars', 'done', 'door', 'double', 'downtown', 'dr', 'dress', 'dressing', 'drink', 'drinks', 'drive', 'dry', 'due', 'early', 'easily', 'easy', 'eat', 'eaten', 'eating', 'efficient', 'egg', 'eggs', 'either', 'else', 'elsewhere', 'employee', 'employees', 'empty', 'end', 'ended', 'enjoy', 'enjoyed', 'enough', 'entire', 'entree', 'entrees', 'environment', 'especially', 'establishment', 'et', 'etc', 'even', 'evening', 'event', 'ever', 'every', 'everyone', 'everything', 'exactly', 'excellent', 'except', 'excited', 'expect', 'expectations', 'expected', 'expecting', 'expensive', 'experience', 'explained', 'extra', 'extremely', 'eye', 'fabulous', 'face', 'fact', 'fair', 'fairly', 'family', 'fan', 'fantastic', 'far', 'fast', 'favorite', 'feel', 'feeling', 'felt', 'fill', 'filled', 'filling', 'finally', 'find', 'fine', 'finish', 'finished', 'first', 'fish', 'five', 'fix', 'fixed', 'flavor', 'flavorful', 'flavors', 'floor', 'food', 'foods', 'forget', 'forgot', 'forward', 'found', 'four', 'free', 'french', 'fresh', 'friday', 'fried', 'friend', 'friendly', 'friends', 'fries', 'front', 'frozen', 'fruit', 'full', 'fun', 'future', 'game', 'games', 'garlic', 'gave', 'gem', 'generous', 'get', 'gets', 'getting', 'girl', 'girls', 'give', 'given', 'giving', 'glad', 'glass', 'glasses', 'go', 'goes', 'going', 'gone', 'good', 'got', 'gotten', 'grab', 'greasy', 'great', 'green', 'greeted', 'grill', 'grilled', 'group', 'groupon', 'guess', 'guy', 'guys', 'gym', 'hair', 'half', 'hand', 'hands', 'happened', 'happy', 'hard', 'hate', 'head', 'healthy', 'hear', 'heard', 'heat', 'help', 'helped', 'helpful', 'high', 'highly', 'hit', 'hold', 'home', 'homemade', 'honest', 'honestly', 'hope', 'horrible', 'hostess', 'hot', 'hotel', 'hour', 'hours', 'house', 'however', 'huge', 'hungry', 'husband', 'ice', 'idea', 'immediately', 'impressed', 'included', 'including', 'incredible', 'incredibly', 'indian', 'ingredients', 'inside', 'instead', 'insurance', 'interesting', 'issue', 'issues', 'italian', 'item', 'items', 'job', 'joint', 'keep', 'kept', 'kids', 'kind', 'kinda', 'kitchen', 'knew', 'know', 'knowledgeable', 'knows', 'korean', 'la', 'lack', 'lady', 'lamb', 'large', 'las', 'last', 'late', 'later', 'le', 'least', 'leave', 'leaving', 'left', 'less', 'let', 'lettuce', 'level', 'life', 'light', 'like', 'liked', 'limited', 'line', 'list', 'literally', 'little', 'live', 'living', 'lobster', 'local', 'located', 'location', 'lol', 'long', 'longer', 'look', 'looked', 'looking', 'looks', 'lost', 'lot', 'lots', 'loud', 'love', 'loved', 'lovely', 'low', 'lunch', 'mac', 'made', 'main', 'make', 'makes', 'making', 'mall', 'man', 'management', 'manager', 'many', 'market', 'massage', 'matter', 'may', 'maybe', 'meal', 'meals', 'mean', 'meat', 'mediocre', 'medium', 'mention', 'mentioned', 'menu', 'met', 'mexican', 'middle', 'might', 'milk', 'min', 'mind', 'mine', 'mins', 'minute', 'minutes', 'miss', 'mix', 'mixed', 'modern', 'mom', 'money', 'month', 'months', 'morning', 'mostly', 'mouth', 'move', 'moved', 'moving', 'much', 'multiple', 'music', 'must', 'nail', 'nails', 'name', 'near', 'need', 'needed', 'needs', 'neighborhood', 'never', 'new', 'next', 'nice', 'nicely', 'night', 'non', 'none', 'noodle', 'noodles', 'normally', 'note', 'nothing', 'noticed', 'number', 'obviously', 'offer', 'offered', 'office', 'often', 'oh', 'oil', 'ok', 'okay', 'old', 'one', 'ones', 'onion', 'onions', 'online', 'open', 'opened', 'opinion', 'option', 'options', 'order', 'ordered', 'ordering', 'orders', 'original', 'others', 'outside', 'outstanding', 'overall', 'overpriced', 'owner', 'owners', 'packed', 'paid', 'pain', 'park', 'parking', 'part', 'party', 'past', 'pasta', 'patient', 'patio', 'pay', 'paying', 'people', 'per', 'perfect', 'perfectly', 'person', 'personal', 'pho', 'phoenix', 'phone', 'pick', 'picked', 'pictures', 'pie', 'piece', 'pieces', 'pizza', 'place', 'places', 'plan', 'plate', 'plates', 'play', 'playing', 'pleasant', 'please', 'pleased', 'plenty', 'plus', 'pm', 'point', 'polite', 'pool', 'poor', 'pork', 'portion', 'portions', 'possible', 'potato', 'potatoes', 'prepared', 'pretty', 'price', 'priced', 'prices', 'pricey', 'pricing', 'probably', 'problem', 'process', 'product', 'products', 'professional', 'provided', 'pulled', 'purchase', 'purchased', 'put', 'quality', 'questions', 'quick', 'quickly', 'quite', 'ramen', 'rare', 'rather', 'rating', 'read', 'ready', 'real', 'really', 'reason', 'reasonable', 'received', 'recently', 'recommend', 'recommended', 'red', 'regular', 'remember', 'repair', 'reservation', 'rest', 'restaurant', 'restaurants', 'return', 'returning', 'review', 'reviews', 'rib', 'ribs', 'rice', 'right', 'roll', 'rolls', 'room', 'rooms', 'rude', 'run', 'running', 'sad', 'said', 'salad', 'salads', 'sales', 'salmon', 'salon', 'salsa', 'salt', 'salty', 'sandwich', 'sandwiches', 'sat', 'satisfied', 'saturday', 'sauce', 'sauces', 'sausage', 'save', 'saw', 'say', 'saying', 'says', 'school', 'scottsdale', 'seafood', 'seasoned', 'seat', 'seated', 'seating', 'seats', 'second', 'section', 'see', 'seeing', 'seem', 'seemed', 'seems', 'seen', 'selection', 'sell', 'sent', 'seriously', 'serve', 'served', 'server', 'servers', 'service', 'services', 'serving', 'set', 'several', 'share', 'shared', 'shop', 'shopping', 'short', 'show', 'showed', 'shrimp', 'side', 'sides', 'sign', 'simple', 'simply', 'since', 'single', 'sit', 'sitting', 'situation', 'size', 'slightly', 'slow', 'small', 'smaller', 'smile', 'soft', 'solid', 'someone', 'something', 'sometimes', 'somewhere', 'son', 'soon', 'sorry', 'sort', 'soup', 'sour', 'space', 'speak', 'special', 'specials', 'spend', 'spent', 'spicy', 'split', 'spot', 'spring', 'st', 'staff', 'stand', 'standard', 'star', 'stars', 'start', 'started', 'station', 'stay', 'stayed', 'staying', 'steak', 'still', 'stop', 'stopped', 'store', 'stores', 'street', 'strip', 'stuff', 'style', 'sugar', 'summer', 'sunday', 'super', 'supposed', 'sure', 'surprise', 'surprised', 'sushi', 'sweet', 'system', 'table', 'tables', 'taco', 'tacos', 'take', 'taken', 'takes', 'taking', 'talk', 'talking', 'taste', 'tasted', 'tastes', 'tasting', 'tasty', 'tea', 'team', 'tell', 'tender', 'terrible', 'texture', 'th', 'thai', 'thank', 'thanks', 'thick', 'thin', 'thing', 'things', 'think', 'thinking', 'though', 'thought', 'three', 'time', 'times', 'tiny', 'tip', 'toast', 'today', 'together', 'told', 'tomato', 'tonight', 'took', 'top', 'toppings', 'toronto', 'total', 'totally', 'touch', 'town', 'traditional', 'treat', 'treated', 'tried', 'trip', 'truck', 'true', 'truly', 'trust', 'try', 'trying', 'tuna', 'turkey', 'turn', 'turned', 'tv', 'twice', 'two', 'type', 'typical', 'understand', 'unfortunately', 'unique', 'unless', 'update', 'upon', 'us', 'use', 'used', 'using', 'usual', 'usually', 'valley', 'value', 'variety', 'vegan', 'vegas', 'vegetarian', 'veggies', 'vehicle', 'vibe', 'view', 'visit', 'visited', 'visiting', 'wait', 'waited', 'waiter', 'waiting', 'waitress', 'walk', 'walked', 'walking', 'wall', 'want', 'wanted', 'warm', 'wash', 'waste', 'watch', 'water', 'way', 'wedding', 'week', 'weekend', 'weeks', 'weird', 'welcoming', 'well', 'went', 'whatever', 'white', 'whole', 'wife', 'window', 'wine', 'wings', 'wish', 'within', 'without', 'woman', 'wonderful', 'word', 'work', 'worked', 'working', 'works', 'world', 'worse', 'worst', 'worth', 'would', 'wow', 'write', 'wrong', 'year', 'years', 'yelp', 'yes', 'yet', 'young', 'yum', 'yummy']\n",
      "['able', 'absolutely', 'accommodating', 'across', 'actually', 'add', 'added', 'affordable', 'afternoon', 'ago', 'ahead', 'air', 'almost', 'alone', 'along', 'already', 'also', 'although', 'always', 'amazing', 'ambiance', 'amount', 'another', 'answer', 'anyone', 'anything', 'anyway', 'anywhere', 'apparently', 'appetizer', 'appetizers', 'apple', 'appointment', 'appreciate', 'area', 'around', 'arrived', 'asian', 'ask', 'asked', 'asking', 'ate', 'atmosphere', 'attention', 'attentive', 'attitude', 'authentic', 'available', 'average', 'avoid', 'away', 'awesome', 'awful', 'baby', 'back', 'bacon', 'bad', 'bag', 'baked', 'bar', 'bartender', 'based', 'basically', 'bathroom', 'bbq', 'beans', 'beautiful', 'bed', 'beef', 'beer', 'beers', 'behind', 'believe', 'best', 'better', 'beyond', 'big', 'bill', 'birthday', 'bit', 'bite', 'black', 'bland', 'blue', 'book', 'bottle', 'bottom', 'bought', 'bowl', 'box', 'boyfriend', 'bread', 'breakfast', 'bring', 'brisket', 'brought', 'brunch', 'buffet', 'building', 'bun', 'burger', 'burgers', 'burrito', 'business', 'busy', 'butter', 'buy', 'cafe', 'cake', 'cakes', 'call', 'called', 'came', 'cannot', 'car', 'card', 'care', 'case', 'cash', 'cashier', 'casino', 'center', 'certainly', 'chairs', 'chance', 'change', 'changed', 'charge', 'charged', 'charlotte', 'cheap', 'check', 'checked', 'checking', 'cheese', 'chef', 'chicken', 'chili', 'chinese', 'chips', 'chocolate', 'choice', 'choices', 'choose', 'chose', 'city', 'class', 'clean', 'cleaning', 'clearly', 'close', 'closed', 'club', 'coffee', 'cold', 'color', 'combo', 'come', 'comes', 'comfortable', 'coming', 'company', 'complaint', 'complete', 'completely', 'considering', 'convenient', 'cook', 'cooked', 'cool', 'corn', 'corner', 'cost', 'could', 'counter', 'couple', 'course', 'covered', 'crab', 'craving', 'crazy', 'cream', 'credit', 'crispy', 'crowd', 'crowded', 'crust', 'cup', 'curry', 'customer', 'customers', 'cut', 'cute', 'dark', 'date', 'daughter', 'day', 'days', 'de', 'deal', 'decent', 'decided', 'decor', 'deep', 'definitely', 'delicious', 'delivered', 'delivery', 'desk', 'despite', 'dessert', 'desserts', 'die', 'different', 'dining', 'dinner', 'dirty', 'disappointed', 'disappointing', 'dish', 'dishes', 'doctor', 'dog', 'dogs', 'dollars', 'done', 'door', 'double', 'downtown', 'dr', 'dress', 'dressing', 'drink', 'drinks', 'drive', 'dry', 'due', 'early', 'easily', 'easy', 'eat', 'eaten', 'eating', 'efficient', 'egg', 'eggs', 'either', 'else', 'elsewhere', 'employee', 'employees', 'empty', 'end', 'ended', 'enjoy', 'enjoyed', 'enough', 'entire', 'entree', 'entrees', 'environment', 'especially', 'establishment', 'et', 'etc', 'even', 'evening', 'event', 'ever', 'every', 'everyone', 'everything', 'exactly', 'excellent', 'except', 'excited', 'expect', 'expectations', 'expected', 'expecting', 'expensive', 'experience', 'explained', 'extra', 'extremely', 'eye', 'fabulous', 'face', 'fact', 'fair', 'fairly', 'family', 'fan', 'fantastic', 'far', 'fast', 'favorite', 'feel', 'feeling', 'felt', 'fill', 'filled', 'filling', 'finally', 'find', 'fine', 'finish', 'finished', 'first', 'fish', 'five', 'fix', 'fixed', 'flavor', 'flavorful', 'flavors', 'floor', 'food', 'foods', 'forget', 'forgot', 'forward', 'found', 'four', 'free', 'french', 'fresh', 'friday', 'fried', 'friend', 'friendly', 'friends', 'fries', 'front', 'frozen', 'fruit', 'full', 'fun', 'future', 'game', 'games', 'garlic', 'gave', 'gem', 'generous', 'get', 'gets', 'getting', 'girl', 'girls', 'give', 'given', 'giving', 'glad', 'glass', 'glasses', 'go', 'goes', 'going', 'gone', 'good', 'got', 'gotten', 'grab', 'greasy', 'great', 'green', 'greeted', 'grill', 'grilled', 'group', 'groupon', 'guess', 'guy', 'guys', 'gym', 'hair', 'half', 'hand', 'hands', 'happened', 'happy', 'hard', 'hate', 'head', 'healthy', 'hear', 'heard', 'heat', 'help', 'helped', 'helpful', 'high', 'highly', 'hit', 'hold', 'home', 'homemade', 'honest', 'honestly', 'hope', 'horrible', 'hostess', 'hot', 'hotel', 'hour', 'hours', 'house', 'however', 'huge', 'hungry', 'husband', 'ice', 'idea', 'immediately', 'impressed', 'included', 'including', 'incredible', 'incredibly', 'indian', 'ingredients', 'inside', 'instead', 'insurance', 'interesting', 'issue', 'issues', 'italian', 'item', 'items', 'job', 'joint', 'keep', 'kept', 'kids', 'kind', 'kinda', 'kitchen', 'knew', 'know', 'knowledgeable', 'knows', 'korean', 'la', 'lack', 'lady', 'lamb', 'large', 'las', 'last', 'late', 'later', 'le', 'least', 'leave', 'leaving', 'left', 'less', 'let', 'lettuce', 'level', 'life', 'light', 'like', 'liked', 'limited', 'line', 'list', 'literally', 'little', 'live', 'living', 'lobster', 'local', 'located', 'location', 'lol', 'long', 'longer', 'look', 'looked', 'looking', 'looks', 'lost', 'lot', 'lots', 'loud', 'love', 'loved', 'lovely', 'low', 'lunch', 'mac', 'made', 'main', 'make', 'makes', 'making', 'mall', 'man', 'management', 'manager', 'many', 'market', 'massage', 'matter', 'may', 'maybe', 'meal', 'meals', 'mean', 'meat', 'mediocre', 'medium', 'mention', 'mentioned', 'menu', 'met', 'mexican', 'middle', 'might', 'milk', 'min', 'mind', 'mine', 'mins', 'minute', 'minutes', 'miss', 'mix', 'mixed', 'modern', 'mom', 'money', 'month', 'months', 'morning', 'mostly', 'mouth', 'move', 'moved', 'moving', 'much', 'multiple', 'music', 'must', 'nail', 'nails', 'name', 'near', 'need', 'needed', 'needs', 'neighborhood', 'never', 'new', 'next', 'nice', 'nicely', 'night', 'non', 'none', 'noodle', 'noodles', 'normally', 'note', 'nothing', 'noticed', 'number', 'obviously', 'offer', 'offered', 'office', 'often', 'oh', 'oil', 'ok', 'okay', 'old', 'one', 'ones', 'onion', 'onions', 'online', 'open', 'opened', 'opinion', 'option', 'options', 'order', 'ordered', 'ordering', 'orders', 'original', 'others', 'outside', 'outstanding', 'overall', 'overpriced', 'owner', 'owners', 'packed', 'paid', 'pain', 'park', 'parking', 'part', 'party', 'past', 'pasta', 'patient', 'patio', 'pay', 'paying', 'people', 'per', 'perfect', 'perfectly', 'person', 'personal', 'pho', 'phoenix', 'phone', 'pick', 'picked', 'pictures', 'pie', 'piece', 'pieces', 'pizza', 'place', 'places', 'plan', 'plate', 'plates', 'play', 'playing', 'pleasant', 'please', 'pleased', 'plenty', 'plus', 'pm', 'point', 'polite', 'pool', 'poor', 'pork', 'portion', 'portions', 'possible', 'potato', 'potatoes', 'prepared', 'pretty', 'price', 'priced', 'prices', 'pricey', 'pricing', 'probably', 'problem', 'process', 'product', 'products', 'professional', 'provided', 'pulled', 'purchase', 'purchased', 'put', 'quality', 'questions', 'quick', 'quickly', 'quite', 'ramen', 'rare', 'rather', 'rating', 'read', 'ready', 'real', 'really', 'reason', 'reasonable', 'received', 'recently', 'recommend', 'recommended', 'red', 'regular', 'remember', 'repair', 'reservation', 'rest', 'restaurant', 'restaurants', 'return', 'returning', 'review', 'reviews', 'rib', 'ribs', 'rice', 'right', 'roll', 'rolls', 'room', 'rooms', 'rude', 'run', 'running', 'sad', 'said', 'salad', 'salads', 'sales', 'salmon', 'salon', 'salsa', 'salt', 'salty', 'sandwich', 'sandwiches', 'sat', 'satisfied', 'saturday', 'sauce', 'sauces', 'sausage', 'save', 'saw', 'say', 'saying', 'says', 'school', 'scottsdale', 'seafood', 'seasoned', 'seat', 'seated', 'seating', 'seats', 'second', 'section', 'see', 'seeing', 'seem', 'seemed', 'seems', 'seen', 'selection', 'sell', 'sent', 'seriously', 'serve', 'served', 'server', 'servers', 'service', 'services', 'serving', 'set', 'several', 'share', 'shared', 'shop', 'shopping', 'short', 'show', 'showed', 'shrimp', 'side', 'sides', 'sign', 'simple', 'simply', 'since', 'single', 'sit', 'sitting', 'situation', 'size', 'slightly', 'slow', 'small', 'smaller', 'smile', 'soft', 'solid', 'someone', 'something', 'sometimes', 'somewhere', 'son', 'soon', 'sorry', 'sort', 'soup', 'sour', 'space', 'speak', 'special', 'specials', 'spend', 'spent', 'spicy', 'split', 'spot', 'spring', 'st', 'staff', 'stand', 'standard', 'star', 'stars', 'start', 'started', 'station', 'stay', 'stayed', 'staying', 'steak', 'still', 'stop', 'stopped', 'store', 'stores', 'street', 'strip', 'stuff', 'style', 'sugar', 'summer', 'sunday', 'super', 'supposed', 'sure', 'surprise', 'surprised', 'sushi', 'sweet', 'system', 'table', 'tables', 'taco', 'tacos', 'take', 'taken', 'takes', 'taking', 'talk', 'talking', 'taste', 'tasted', 'tastes', 'tasting', 'tasty', 'tea', 'team', 'tell', 'tender', 'terrible', 'texture', 'th', 'thai', 'thank', 'thanks', 'thick', 'thin', 'thing', 'things', 'think', 'thinking', 'though', 'thought', 'three', 'time', 'times', 'tiny', 'tip', 'toast', 'today', 'together', 'told', 'tomato', 'tonight', 'took', 'top', 'toppings', 'toronto', 'total', 'totally', 'touch', 'town', 'traditional', 'treat', 'treated', 'tried', 'trip', 'truck', 'true', 'truly', 'trust', 'try', 'trying', 'tuna', 'turkey', 'turn', 'turned', 'tv', 'twice', 'two', 'type', 'typical', 'understand', 'unfortunately', 'unique', 'unless', 'update', 'upon', 'us', 'use', 'used', 'using', 'usual', 'usually', 'valley', 'value', 'variety', 'vegan', 'vegas', 'vegetarian', 'veggies', 'vehicle', 'vibe', 'view', 'visit', 'visited', 'visiting', 'wait', 'waited', 'waiter', 'waiting', 'waitress', 'walk', 'walked', 'walking', 'wall', 'want', 'wanted', 'warm', 'wash', 'waste', 'watch', 'water', 'way', 'wedding', 'week', 'weekend', 'weeks', 'weird', 'welcoming', 'well', 'went', 'whatever', 'white', 'whole', 'wife', 'window', 'wine', 'wings', 'wish', 'within', 'without', 'woman', 'wonderful', 'word', 'work', 'worked', 'working', 'works', 'world', 'worse', 'worst', 'worth', 'would', 'wow', 'write', 'wrong', 'year', 'years', 'yelp', 'yes', 'yet', 'young', 'yum', 'yummy']\n"
     ]
    }
   ],
   "source": [
    "# Take a look at the words in the vocabulary\n",
    "print(tfidf_feature_names)\n",
    "print(tf_feature_names)"
   ]
  },
  {
   "cell_type": "code",
   "execution_count": 33,
   "metadata": {
    "ExecuteTime": {
     "end_time": "2019-11-24T17:05:17.495351Z",
     "start_time": "2019-11-24T16:55:11.261961Z"
    }
   },
   "outputs": [
    {
     "name": "stdout",
     "output_type": "stream",
     "text": [
      "Running NMF...\n",
      "Finished NMF\n",
      "Running LDA...\n",
      "Finished LDA\n"
     ]
    }
   ],
   "source": [
    "no_topics = 100 \n",
    "\n",
    "from sklearn.decomposition import NMF, LatentDirichletAllocation\n",
    "\n",
    "# Run NMF\n",
    "print('Running NMF...')\n",
    "nmf = NMF(n_components=no_topics, random_state=1, alpha=.1, l1_ratio=.5, init='nndsvd').fit(tfidf)\n",
    "print('Finished NMF')\n",
    "\n",
    "# Run LDA\n",
    "print('Running LDA...')\n",
    "lda = LatentDirichletAllocation(n_components=no_topics, max_iter=5, learning_method='online', learning_offset=50.,random_state=0).fit(tf)\n",
    "print('Finished LDA')"
   ]
  },
  {
   "cell_type": "code",
   "execution_count": 34,
   "metadata": {
    "ExecuteTime": {
     "end_time": "2019-11-24T17:05:17.574696Z",
     "start_time": "2019-11-24T17:05:17.503118Z"
    }
   },
   "outputs": [
    {
     "name": "stdout",
     "output_type": "stream",
     "text": [
      "Topic 0:\n",
      "yummy fried garlic games game future fun full fruit frozen\n",
      "Topic 1:\n",
      "said told called call asked company phone could day business\n",
      "Topic 2:\n",
      "great atmosphere spot service fantastic patio thanks value ambiance vibe\n",
      "Topic 3:\n",
      "food eat fast mexican service portions authentic chinese indian atmosphere\n",
      "Topic 4:\n",
      "sauce bbq pork meat flavor sweet spicy brisket ribs dish\n",
      "Topic 5:\n",
      "pizza crust toppings thin delivery wings italian pie garlic style\n",
      "Topic 6:\n",
      "always favorite come usually coming busy years makes often sometimes\n",
      "Topic 7:\n",
      "good overall service value though still thing drinks stuff tried\n",
      "Topic 8:\n",
      "chicken fried wings fries curry spicy dry crispy butter indian\n",
      "Topic 9:\n",
      "staff friendly helpful knowledgeable attentive extremely accommodating fast quick professional\n",
      "Topic 10:\n",
      "best town hands far part valley ever city charlotte phoenix\n",
      "Topic 11:\n",
      "time first next last second long visit waste took today\n",
      "Topic 12:\n",
      "service customer slow fast horrible quick poor terrible friendly bad\n",
      "Topic 13:\n",
      "place eat looking found cool favorite check friends places want\n",
      "Topic 14:\n",
      "love absolutely favorite coming especially yummy wish wonderful everyone husband\n",
      "Topic 15:\n",
      "recommend highly anyone professional recommended looking knowledgeable company everyone services\n",
      "Topic 16:\n",
      "burger fries burgers bun onion bacon toppings potato joint french\n",
      "Topic 17:\n",
      "car wash vehicle oil drive insurance took repair change guys\n",
      "Topic 18:\n",
      "amazing absolutely thank perfect incredible beautiful wow server truly die\n",
      "Topic 19:\n",
      "times many several last couple three twice multiple eaten week\n",
      "Topic 20:\n",
      "back come coming came soon massage keep sure first bring\n",
      "Topic 21:\n",
      "would recommend anyone thought think wish say could expect rather\n",
      "Topic 22:\n",
      "really enjoyed liked cool think enjoy wanted bad though appreciate\n",
      "Topic 23:\n",
      "ice cream flavors chocolate tea dessert sweet flavor milk cup\n",
      "Topic 24:\n",
      "sushi roll rolls tuna salmon spicy eat chef pieces crab\n",
      "Topic 25:\n",
      "shop owner repair local stop guys business cute shopping found\n",
      "Topic 26:\n",
      "room hotel stay rooms pool stayed desk bed bathroom front\n",
      "Topic 27:\n",
      "bar drinks drink bartender sat music sit patio wings tables\n",
      "Topic 28:\n",
      "us server gave table waitress waiter manager party brought came\n",
      "Topic 29:\n",
      "like feel felt tasted taste looks something seems looked know\n",
      "Topic 30:\n",
      "go wrong want else anywhere back somewhere way need see\n",
      "Topic 31:\n",
      "hair cut salon color appointment style wanted look looking found\n",
      "Topic 32:\n",
      "get pay usually done want money free able getting need\n",
      "Topic 33:\n",
      "fish chips seafood grilled salmon piece fries shrimp friday dish\n",
      "Topic 34:\n",
      "coffee cup tea milk drink cafe morning drinks cute sweet\n",
      "Topic 35:\n",
      "de et la le plus ambiance son able th service\n",
      "Topic 36:\n",
      "minutes took came waited table waiting waitress another seated server\n",
      "Topic 37:\n",
      "buffet crab seafood brunch dinner rib eat desserts dessert variety\n",
      "Topic 38:\n",
      "one places favorite two restaurants thing star person another different\n",
      "Topic 39:\n",
      "awesome guys thanks totally thank cool server helped everyone huge\n",
      "Topic 40:\n",
      "delicious absolutely favorite perfect wonderful perfectly yummy portions attentive spot\n",
      "Topic 41:\n",
      "vegas las strip trip must visit casino stop favorite next\n",
      "Topic 42:\n",
      "tacos taco mexican salsa chips burrito beans street authentic corn\n",
      "Topic 43:\n",
      "dr office care doctor appointment patient pain professional staff feel\n",
      "Topic 44:\n",
      "location convenient drive employees close downtown scottsdale original opened mall\n",
      "Topic 45:\n",
      "order delivery take wrong orders ordered pick ordering counter online\n",
      "Topic 46:\n",
      "excellent service wine perfect owner atmosphere wife knowledgeable attentive value\n",
      "Topic 47:\n",
      "well worth done priced cooked seasoned prepared medium oh kept\n",
      "Topic 48:\n",
      "got friend right wanted husband finally boyfriend free drink done\n",
      "Topic 49:\n",
      "breakfast eggs toast bacon brunch egg french morning burrito sausage\n",
      "Topic 50:\n",
      "lunch dinner quick special specials spot today salad day stopped\n",
      "Topic 51:\n",
      "nice atmosphere patio touch decor outside helpful ambiance inside guy\n",
      "Topic 52:\n",
      "try must decided tried give different something next disappointed flavors\n",
      "Topic 53:\n",
      "prices high fair portions decent low selection affordable cheap expensive\n",
      "Topic 54:\n",
      "show see music seats seen fan watch must saw view\n",
      "Topic 55:\n",
      "happy hour half specials pm drinks appetizers wine found hours\n",
      "Topic 56:\n",
      "fresh tasty ingredients fruit bread hot flavorful taste veggies healthy\n",
      "Topic 57:\n",
      "also tried free tea different offer enjoyed available serve add\n",
      "Topic 58:\n",
      "little bit pricey cute worth side slow spot could expensive\n",
      "Topic 59:\n",
      "restaurant dishes restaurants mexican table chinese favorite meal italian dining\n",
      "Topic 60:\n",
      "even though still busy without know worse horrible close tell\n",
      "Topic 61:\n",
      "reasonable pricing prices fast quick cost found within friendly house\n",
      "Topic 62:\n",
      "soup beef noodles noodle pho chinese pork dishes ramen bowl\n",
      "Topic 63:\n",
      "price worth fair pay decent half portion expensive portions high\n",
      "Topic 64:\n",
      "better much way could ok places think average expected say\n",
      "Topic 65:\n",
      "dog hot dogs fries park chili toppings bring care water\n",
      "Topic 66:\n",
      "make sure ask want way making feel extra care stop\n",
      "Topic 67:\n",
      "people line working know group two waiting everyone many counter\n",
      "Topic 68:\n",
      "ordered salad steak meal came side dinner bread server dressing\n",
      "Topic 69:\n",
      "definitely worth recommend return returning coming future visit back use\n",
      "Topic 70:\n",
      "new favorite old found management spot year took looking used\n",
      "Topic 71:\n",
      "pretty decent much cool bad though actually tasty overall think\n",
      "Topic 72:\n",
      "clean salon cleaning fast modern comfortable use environment professional massage\n",
      "Topic 73:\n",
      "cheese mac grilled bacon steak blue bread cream egg chili\n",
      "Topic 74:\n",
      "area find around lot small right parking see way looking\n",
      "Topic 75:\n",
      "menu items options vegan vegetarian dinner dishes brunch wine server\n",
      "Topic 76:\n",
      "work done company keep guys professional need team needed needs\n",
      "Topic 77:\n",
      "selection beer wine beers list local fantastic glass huge patio\n",
      "Topic 78:\n",
      "everything else tried perfect explained need needed everyone including tasted\n",
      "Topic 79:\n",
      "sandwich sandwiches bread turkey egg fries italian bacon beef meat\n",
      "Topic 80:\n",
      "store helpful items stores buy employees shopping help find products\n",
      "Topic 81:\n",
      "fun atmosphere games drinks kids play music cool friends lots\n",
      "Topic 82:\n",
      "ever worst seen life eaten rude absolutely probably literally best\n",
      "Topic 83:\n",
      "made feel home comfortable house thank process sure easy appointment\n",
      "Topic 84:\n",
      "stars give could star reason five giving review rating gave\n",
      "Topic 85:\n",
      "night last dinner late friday saturday date music pm club\n",
      "Topic 86:\n",
      "thai tea curry green spicy noodles milk dishes favorite rolls\n",
      "Topic 87:\n",
      "experience wonderful overall dining bad pleasant first thank massage whole\n",
      "Topic 88:\n",
      "went today beyond friend back day wanted way first left\n",
      "Topic 89:\n",
      "every day single come week time worth year eat bite\n",
      "Topic 90:\n",
      "job nails done nail professional salon guys thank cleaning thanks\n",
      "Topic 91:\n",
      "cake chocolate cakes sweet birthday dessert wedding desserts white butter\n",
      "Topic 92:\n",
      "rice fried shrimp beans chinese egg pork dishes bowl black\n",
      "Topic 93:\n",
      "super friendly fast cute yummy helpful cool sweet quick cheap\n",
      "Topic 94:\n",
      "wait long line worth waiting busy min hour minute mins\n",
      "Topic 95:\n",
      "family friends kids business run town thank son whole take\n",
      "Topic 96:\n",
      "never bad disappointed horrible rude anything say terrible seen tried\n",
      "Topic 97:\n",
      "going years ago since year last still used past coming\n",
      "Topic 98:\n",
      "quality high ingredients poor taste meat used low product expensive\n",
      "Topic 99:\n",
      "loved absolutely kids husband wonderful beautiful daughter perfect decor son\n",
      "Topic 0:\n",
      "expensive surprise traditional hungry work sometimes et healthy mexican convenient\n",
      "Topic 1:\n",
      "recommend excellent highly would great service recommended anyone definitely glad\n",
      "Topic 2:\n",
      "cheese steak priced sandwiches potatoes mac meals shared sides grill\n",
      "Topic 3:\n",
      "sushi roll rolls full fresh egg good tuna rib ramen\n",
      "Topic 4:\n",
      "different everyone things several start shopping min including eye park\n",
      "Topic 5:\n",
      "better stars quick shop much value walk limited cashier giving\n",
      "Topic 6:\n",
      "hair cut easy looks exactly salon wanted fixed color fix\n",
      "Topic 7:\n",
      "plus de la mom air met le et ambiance service\n",
      "Topic 8:\n",
      "miss steak level past bed seen unfortunately visited order foods\n",
      "Topic 9:\n",
      "covered meals sat nice tasted talking standard gone full chinese\n",
      "Topic 10:\n",
      "area small parking lot pool near located phoenix filled also\n",
      "Topic 11:\n",
      "sandwiches disappointed heat many pleased beef next taking cakes dinner\n",
      "Topic 12:\n",
      "dessert like also think tables fish one well years little\n",
      "Topic 13:\n",
      "pizza coffee fresh eggs ingredients crust good pie delicious eaten\n",
      "Topic 14:\n",
      "note egg staff seems star done potatoes greasy completely chef\n",
      "Topic 15:\n",
      "ok soon actually online bill total true returning avoid sad\n",
      "Topic 16:\n",
      "week getting pm able get employees change given customers last\n",
      "Topic 17:\n",
      "order take ordered go card food decided get orders wrong\n",
      "Topic 18:\n",
      "servers seem employees pizza process usual questions across item pasta\n",
      "Topic 19:\n",
      "new look see like oh one seen something gets seriously\n",
      "Topic 20:\n",
      "coming around wedding chance literally seat appointment play heard happened\n",
      "Topic 21:\n",
      "best quality ever price one far town place valley high\n",
      "Topic 22:\n",
      "back come definitely happy place seem really try friendly awful\n",
      "Topic 23:\n",
      "day next green time stuff unfortunately trip saw went one\n",
      "Topic 24:\n",
      "options attentive visit often choose sometimes variety hit miss healthy\n",
      "Topic 25:\n",
      "might deep selection employee cute enjoy pizza usually really closed\n",
      "Topic 26:\n",
      "eat friends busy wings slow either management non weird grab\n",
      "Topic 27:\n",
      "new told helped pricing shop two toppings never matter tables\n",
      "Topic 28:\n",
      "old friend meat close seafood class pricey generous lovely town\n",
      "Topic 29:\n",
      "employee want ate review black professional thick counter used onions\n",
      "Topic 30:\n",
      "roll back serve walk sort cool cashier welcoming product cakes\n",
      "Topic 31:\n",
      "world something lovely done tastes write shop longer remember smaller\n",
      "Topic 32:\n",
      "show helpful found kind months past moved questions helped charlotte\n",
      "Topic 33:\n",
      "specials point noodle without game night office showed sign yet\n",
      "Topic 34:\n",
      "top huge tasty grilled type ribs short delivered fresh cheese\n",
      "Topic 35:\n",
      "restaurant course dessert ate birthday main waiter finish deep dinner\n",
      "Topic 36:\n",
      "sure fun make time every early place morning game saturday\n",
      "Topic 37:\n",
      "special nothing cooked perfectly pasta lobster portion salads overpriced mediocre\n",
      "Topic 38:\n",
      "selection run twice oil option vegetarian surprise original completely offer\n",
      "Topic 39:\n",
      "environment club wish neighborhood restaurant heard feeling pain original thank\n",
      "Topic 40:\n",
      "time first today last went second point done experience wanted\n",
      "Topic 41:\n",
      "nice style quite plenty environment staff touch friendly polite choice\n",
      "Topic 42:\n",
      "work staff care office dr professional friendly appointment great feel\n",
      "Topic 43:\n",
      "people know go want like one get place way still\n",
      "Topic 44:\n",
      "money pay extra get go charge else tell paid massage\n",
      "Topic 45:\n",
      "car bought watch seats somewhere purchase get repair purchased vehicle\n",
      "Topic 46:\n",
      "great amazing drinks fantastic wow experience unique place job definitely\n",
      "Topic 47:\n",
      "perfect house home cool absolutely yummy made little cute delicious\n",
      "Topic 48:\n",
      "sauce bread flavor good cheese side bacon ordered meat garlic\n",
      "Topic 49:\n",
      "meal enjoy dry experience others warm outstanding really tasted eating\n",
      "Topic 50:\n",
      "two three part wife one dirty brought daughter please number\n",
      "Topic 51:\n",
      "super open done kids wish truck friendly affordable sign staff\n",
      "Topic 52:\n",
      "worth looking totally forward feeling book welcoming complete bit get\n",
      "Topic 53:\n",
      "soup beef restaurants food restaurant chinese noodles italian pieces like\n",
      "Topic 54:\n",
      "thank stop owner needs hand beyond future team whole pleased\n",
      "Topic 55:\n",
      "sandwich keep drive son thanks veggies window moving coming seeing\n",
      "Topic 56:\n",
      "need store ready help find reason products stores neighborhood level\n",
      "Topic 57:\n",
      "line door guys working guy fan front get people leave\n",
      "Topic 58:\n",
      "today needs exactly yelp less lots style prices market worth\n",
      "Topic 59:\n",
      "always love awesome great place staff friendly time especially every\n",
      "Topic 60:\n",
      "told would said called call back company could phone days\n",
      "Topic 61:\n",
      "interesting desk maybe truly baby small home pool blue huge\n",
      "Topic 62:\n",
      "really like think though little bit pretty would also something\n",
      "Topic 63:\n",
      "et almost hour massage spicy reviews months works noodle hair\n",
      "Topic 64:\n",
      "go sat salad wine tables hostess appetizer delicious table probably\n",
      "Topic 65:\n",
      "food good service place great fast friendly really staff go\n",
      "Topic 66:\n",
      "place good reviews pretty yelp find review hard cheap much\n",
      "Topic 67:\n",
      "plan want thanks total across cute anyway polite strip efficient\n",
      "Topic 68:\n",
      "menu dishes etc french dish simple authentic toast decent korean\n",
      "Topic 69:\n",
      "wall lot going used opened life asked low unfortunately across\n",
      "Topic 70:\n",
      "years many year real ago gone buy ones going sell\n",
      "Topic 71:\n",
      "free cake available incredible unless excited plan apple cakes tasting\n",
      "Topic 72:\n",
      "fries burger average burgers good medium joint rare bun patio\n",
      "Topic 73:\n",
      "wait minutes hour took long waiting time waited got came\n",
      "Topic 74:\n",
      "hot taste dog bowl boyfriend dogs bag sauces like toppings\n",
      "Topic 75:\n",
      "fish tacos shrimp chips mexican taco salsa good yum fresh\n",
      "Topic 76:\n",
      "table us food wine restaurant tables menu ordered seated dinner\n",
      "Topic 77:\n",
      "bar beer music live kitchen star check low crowd rating\n",
      "Topic 78:\n",
      "loved group bbq weekend decor wall chili brisket friends split\n",
      "Topic 79:\n",
      "would place like waitress back good maybe could fine said\n",
      "Topic 80:\n",
      "favorite tea usually place brunch one choices box pho also\n",
      "Topic 81:\n",
      "tried chocolate liked flavors red interesting try salt frozen glasses\n",
      "Topic 82:\n",
      "buffet cold end crab rather closed half desserts double heat\n",
      "Topic 83:\n",
      "location used lots large space delivery packed easily clean smaller\n",
      "Topic 84:\n",
      "wonderful salmon pleasant chef prepared piece appetizer served well mouth\n",
      "Topic 85:\n",
      "vegas prices reasonable las strip fair high trip good must\n",
      "Topic 86:\n",
      "got husband name felt walked club greeted looked center okay\n",
      "Topic 87:\n",
      "service customer never manager rude asked worst bad even experience\n",
      "Topic 88:\n",
      "server drink party stopped servers says visiting beers quickly obviously\n",
      "Topic 89:\n",
      "room clean hotel stay floor rooms beautiful stayed bathroom staff\n",
      "Topic 90:\n",
      "chicken rice spicy pork sauce ordered burrito beans food item\n",
      "Topic 91:\n",
      "wrong okay employees several house much interesting friend apple feeling\n",
      "Topic 92:\n",
      "food delicious atmosphere fried great enjoyed service good back definitely\n",
      "Topic 93:\n",
      "cream ice water less bartender downtown scottsdale sugar mix glass\n",
      "Topic 94:\n",
      "door appetizer trust drink kept personal piece apple seen ramen\n",
      "Topic 95:\n",
      "places makes street counter behind across someone move middle station\n",
      "Topic 96:\n",
      "lunch breakfast family spot items cafe dinner great morning specials\n",
      "Topic 97:\n",
      "us night outside inside impressed seating late gave came last\n",
      "Topic 98:\n",
      "shrimp cheap bought space store place cakes instead found fries\n",
      "Topic 99:\n",
      "salad sweet thai size crispy soft plate fresh potato lunch\n"
     ]
    }
   ],
   "source": [
    "def display_topics(model, feature_names, no_top_words):\n",
    "    for topic_idx, topic in enumerate(model.components_):\n",
    "        print(\"Topic %d:\" % (topic_idx))\n",
    "        print(\" \".join([feature_names[i]\n",
    "                        for i in topic.argsort()[:-no_top_words - 1:-1]]))\n",
    "\n",
    "no_top_words = 10\n",
    "display_topics(nmf, tfidf_feature_names, no_top_words)\n",
    "display_topics(lda, tf_feature_names, no_top_words)"
   ]
  },
  {
   "cell_type": "markdown",
   "metadata": {},
   "source": [
    "## Words indicative of 5-star reviews"
   ]
  },
  {
   "cell_type": "code",
   "execution_count": 35,
   "metadata": {
    "ExecuteTime": {
     "end_time": "2019-11-24T17:05:17.610843Z",
     "start_time": "2019-11-24T17:05:17.579994Z"
    }
   },
   "outputs": [
    {
     "data": {
      "text/plain": [
       "0    False\n",
       "1     True\n",
       "2     True\n",
       "3     True\n",
       "4    False\n",
       "Name: stars, dtype: bool"
      ]
     },
     "execution_count": 35,
     "metadata": {},
     "output_type": "execute_result"
    }
   ],
   "source": [
    "# Want to understand words predictive of 5-star reviews\n",
    "# Make a label that is 5-star and build a model to predict\n",
    "ydata = (dfreviews['stars'] == 5)\n",
    "ydata.head()"
   ]
  },
  {
   "cell_type": "code",
   "execution_count": 36,
   "metadata": {
    "ExecuteTime": {
     "end_time": "2019-11-24T17:06:33.161229Z",
     "start_time": "2019-11-24T17:05:17.625977Z"
    }
   },
   "outputs": [
    {
     "name": "stdout",
     "output_type": "stream",
     "text": [
      "Training the random forest...\n"
     ]
    }
   ],
   "source": [
    "print(\"Training the random forest...\")\n",
    "from sklearn.ensemble import RandomForestClassifier\n",
    "\n",
    "# Initialize a Random Forest classifier with 100 trees\n",
    "forest = RandomForestClassifier(n_estimators = 100) \n",
    "\n",
    "# Fit the forest to the training set, using the bag of words as \n",
    "# features and the sentiment labels as the response variable\n",
    "#\n",
    "# This may take a few minutes to run\n",
    "lda_trans = lda.transform(tf)\n",
    "forest = forest.fit( lda_trans, ydata )"
   ]
  },
  {
   "cell_type": "code",
   "execution_count": 37,
   "metadata": {
    "ExecuteTime": {
     "end_time": "2019-11-24T17:06:33.234350Z",
     "start_time": "2019-11-24T17:06:33.162939Z"
    }
   },
   "outputs": [
    {
     "data": {
      "text/html": [
       "<div>\n",
       "<style scoped>\n",
       "    .dataframe tbody tr th:only-of-type {\n",
       "        vertical-align: middle;\n",
       "    }\n",
       "\n",
       "    .dataframe tbody tr th {\n",
       "        vertical-align: top;\n",
       "    }\n",
       "\n",
       "    .dataframe thead th {\n",
       "        text-align: right;\n",
       "    }\n",
       "</style>\n",
       "<table border=\"1\" class=\"dataframe\">\n",
       "  <thead>\n",
       "    <tr style=\"text-align: right;\">\n",
       "      <th></th>\n",
       "      <th>Topic</th>\n",
       "      <th>Importance</th>\n",
       "    </tr>\n",
       "  </thead>\n",
       "  <tbody>\n",
       "    <tr>\n",
       "      <th>46</th>\n",
       "      <td>great amazing drinks fantastic wow experience ...</td>\n",
       "      <td>0.049731</td>\n",
       "    </tr>\n",
       "    <tr>\n",
       "      <th>59</th>\n",
       "      <td>always love awesome great place staff friendly...</td>\n",
       "      <td>0.045794</td>\n",
       "    </tr>\n",
       "    <tr>\n",
       "      <th>1</th>\n",
       "      <td>recommend excellent highly would great service...</td>\n",
       "      <td>0.035678</td>\n",
       "    </tr>\n",
       "    <tr>\n",
       "      <th>42</th>\n",
       "      <td>work staff care office dr professional friendl...</td>\n",
       "      <td>0.031688</td>\n",
       "    </tr>\n",
       "    <tr>\n",
       "      <th>21</th>\n",
       "      <td>best quality ever price one far town place val...</td>\n",
       "      <td>0.029472</td>\n",
       "    </tr>\n",
       "  </tbody>\n",
       "</table>\n",
       "</div>"
      ],
      "text/plain": [
       "                                                Topic  Importance\n",
       "46  great amazing drinks fantastic wow experience ...    0.049731\n",
       "59  always love awesome great place staff friendly...    0.045794\n",
       "1   recommend excellent highly would great service...    0.035678\n",
       "42  work staff care office dr professional friendl...    0.031688\n",
       "21  best quality ever price one far town place val...    0.029472"
      ]
     },
     "execution_count": 37,
     "metadata": {},
     "output_type": "execute_result"
    }
   ],
   "source": [
    "def return_topics(model, feature_names, no_top_words):\n",
    "    topics = []\n",
    "    for topic_idx, topic in enumerate(model.components_):\n",
    "#         print(\"Topic %d:\" % (topic_idx))\n",
    "        topics.append(\" \".join([feature_names[i]\n",
    "                        for i in topic.argsort()[:-no_top_words - 1:-1]]))\n",
    "    return topics\n",
    "\n",
    "\n",
    "topicImportances = pd.DataFrame(data=zip(return_topics(lda, tf_feature_names, no_top_words), \n",
    "                                         forest.feature_importances_), columns=['Topic', 'Importance'])\n",
    "topicImportances.sort_values(by=['Importance'], axis=0, ascending=False, inplace=True)\n",
    "topicImportances.head()"
   ]
  },
  {
   "cell_type": "code",
   "execution_count": null,
   "metadata": {
    "ExecuteTime": {
     "end_time": "2019-11-24T02:02:54.056239Z",
     "start_time": "2019-11-24T01:51:02.870Z"
    }
   },
   "outputs": [],
   "source": [
    "wordImportances = pd.DataFrame(data=zip(vocab, forest.feature_importances_), columns=['Word', 'Importance'])\n",
    "wordImportances.sort_values(by=['Importance'], axis=0, ascending=False, inplace=True)"
   ]
  },
  {
   "cell_type": "code",
   "execution_count": 39,
   "metadata": {
    "ExecuteTime": {
     "end_time": "2019-11-24T18:29:37.897063Z",
     "start_time": "2019-11-24T18:29:37.267470Z"
    }
   },
   "outputs": [
    {
     "data": {
      "image/png": "[encoded data removed]",
      "text/plain": [
       "<Figure size 864x576 with 1 Axes>"
      ]
     },
     "metadata": {
      "needs_background": "light"
     },
     "output_type": "display_data"
    }
   ],
   "source": [
    "plt.figure(figsize=(12,8))\n",
    "plt.barh(y='Topic', width='Importance', data=topicImportances[:30]);\n",
    "plt.yticks(rotation='horizontal', fontsize=14);\n",
    "plt.title('Topics indicative of 5-star reviews (vs others)', fontsize=20);"
   ]
  },
  {
   "cell_type": "code",
   "execution_count": null,
   "metadata": {
    "ExecuteTime": {
     "end_time": "2019-11-24T02:02:54.060582Z",
     "start_time": "2019-11-24T01:51:02.877Z"
    }
   },
   "outputs": [],
   "source": [
    "wordImportances.head(10)"
   ]
  },
  {
   "cell_type": "markdown",
   "metadata": {},
   "source": [
    "## Words indicative of 1-star reviews"
   ]
  },
  {
   "cell_type": "code",
   "execution_count": null,
   "metadata": {
    "ExecuteTime": {
     "end_time": "2019-11-24T02:02:54.064391Z",
     "start_time": "2019-11-24T01:51:02.880Z"
    }
   },
   "outputs": [],
   "source": [
    "# Want to understand words predictive of 5-star reviews\n",
    "# Make a label that is 5-star and build a model to predict\n",
    "ydata1 = (dfreviews['stars'] == 1)\n",
    "ydata1.head()"
   ]
  },
  {
   "cell_type": "code",
   "execution_count": null,
   "metadata": {
    "ExecuteTime": {
     "end_time": "2019-11-24T02:02:54.065803Z",
     "start_time": "2019-11-24T01:51:02.883Z"
    }
   },
   "outputs": [],
   "source": [
    "print(\"Training the random forest...\")\n",
    "from sklearn.ensemble import RandomForestClassifier\n",
    "\n",
    "# Initialize a Random Forest classifier with 100 trees\n",
    "forest1 = RandomForestClassifier(n_estimators = 100) \n",
    "\n",
    "# Fit the forest to the training set, using the bag of words as \n",
    "# features and the sentiment labels as the response variable\n",
    "#\n",
    "# This may take a few minutes to run\n",
    "forest1 = forest1.fit( train_data_features, ydata1 )"
   ]
  },
  {
   "cell_type": "code",
   "execution_count": null,
   "metadata": {
    "ExecuteTime": {
     "end_time": "2019-11-24T02:02:54.068222Z",
     "start_time": "2019-11-24T01:51:02.886Z"
    }
   },
   "outputs": [],
   "source": [
    "wordImportances1 = pd.DataFrame(data=zip(vocab, forest1.feature_importances_), columns=['Word', 'Importance'])\n",
    "wordImportances1.sort_values(by=['Importance'], axis=0, ascending=False, inplace=True)"
   ]
  },
  {
   "cell_type": "code",
   "execution_count": null,
   "metadata": {
    "ExecuteTime": {
     "end_time": "2019-11-24T02:02:54.070327Z",
     "start_time": "2019-11-24T01:51:02.889Z"
    }
   },
   "outputs": [],
   "source": [
    "plt.figure(figsize=(12,8))\n",
    "plt.barh(y='Word', width='Importance', data=wordImportances1[:30]);\n",
    "plt.yticks(rotation='horizontal', fontsize=14);\n",
    "plt.title('Words indicative of 1-star reviews (vs others)', fontsize=20);"
   ]
  },
  {
   "cell_type": "code",
   "execution_count": null,
   "metadata": {
    "ExecuteTime": {
     "end_time": "2019-11-24T02:02:54.072773Z",
     "start_time": "2019-11-24T01:51:02.892Z"
    }
   },
   "outputs": [],
   "source": [
    "df_wI5_wI1 = wordImportances.merge(wordImportances1, how='outer', on='Word', suffixes=('_5star', '_1star'))"
   ]
  },
  {
   "cell_type": "code",
   "execution_count": null,
   "metadata": {
    "ExecuteTime": {
     "end_time": "2019-11-24T02:02:54.080119Z",
     "start_time": "2019-11-24T01:51:02.896Z"
    }
   },
   "outputs": [],
   "source": [
    "df_wI5_wI1.sort_values(by=['Importance_5star'], axis=0, ascending=False, inplace=True)\n",
    "df_wI5_wI1.head()"
   ]
  },
  {
   "cell_type": "code",
   "execution_count": null,
   "metadata": {
    "ExecuteTime": {
     "end_time": "2019-11-24T02:02:54.089235Z",
     "start_time": "2019-11-24T01:51:02.901Z"
    }
   },
   "outputs": [],
   "source": [
    "\n",
    "df_wI5_wI1[:50].plot(x='Word', y=['Importance_5star', 'Importance_1star'], kind='bar', \n",
    "                     figsize=(20,4), fontsize=20)"
   ]
  },
  {
   "cell_type": "code",
   "execution_count": null,
   "metadata": {
    "ExecuteTime": {
     "end_time": "2019-11-24T02:02:54.091985Z",
     "start_time": "2019-11-24T01:51:02.905Z"
    }
   },
   "outputs": [],
   "source": [
    "df_wI5_wI1['Word'][:30]"
   ]
  },
  {
   "cell_type": "code",
   "execution_count": null,
   "metadata": {
    "ExecuteTime": {
     "end_time": "2019-11-24T02:02:54.094365Z",
     "start_time": "2019-11-24T01:51:02.907Z"
    }
   },
   "outputs": [],
   "source": [
    "\n",
    "df_wI5_wI1.sort_values(by='Importance_1star', ascending=False)[:50].plot(x='Word', y=['Importance_5star', 'Importance_1star'], kind='bar', \n",
    "                     figsize=(20,4), fontsize=20)"
   ]
  },
  {
   "cell_type": "code",
   "execution_count": null,
   "metadata": {
    "ExecuteTime": {
     "end_time": "2019-11-24T02:02:54.099964Z",
     "start_time": "2019-11-24T01:51:02.910Z"
    }
   },
   "outputs": [],
   "source": [
    "df_wI5_wI1['Importance_5x1'] = df_wI5_wI1['Importance_1star'] * df_wI5_wI1['Importance_5star']"
   ]
  },
  {
   "cell_type": "code",
   "execution_count": null,
   "metadata": {
    "ExecuteTime": {
     "end_time": "2019-11-24T02:02:54.105913Z",
     "start_time": "2019-11-24T01:51:02.914Z"
    }
   },
   "outputs": [],
   "source": [
    "\n",
    "df_wI5_wI1.sort_values(by='Importance_5x1', ascending=False)[:50].plot(x='Word', y=['Importance_5star', 'Importance_1star'], kind='bar', \n",
    "                     figsize=(20,4), fontsize=20)"
   ]
  },
  {
   "cell_type": "code",
   "execution_count": null,
   "metadata": {},
   "outputs": [],
   "source": []
  }
 ],
 "metadata": {
  "kernelspec": {
   "display_name": "Python 3",
   "language": "python",
   "name": "python3"
  },
  "language_info": {
   "codemirror_mode": {
    "name": "ipython",
    "version": 3
   },
   "file_extension": ".py",
   "mimetype": "text/x-python",
   "name": "python",
   "nbconvert_exporter": "python",
   "pygments_lexer": "ipython3",
   "version": "3.7.3"
  },
  "toc": {
   "base_numbering": 1,
   "nav_menu": {},
   "number_sections": true,
   "sideBar": true,
   "skip_h1_title": false,
   "title_cell": "Table of Contents",
   "title_sidebar": "Contents",
   "toc_cell": true,
   "toc_position": {},
   "toc_section_display": true,
   "toc_window_display": false
  }
 },
 "nbformat": 4,
 "nbformat_minor": 2
}
